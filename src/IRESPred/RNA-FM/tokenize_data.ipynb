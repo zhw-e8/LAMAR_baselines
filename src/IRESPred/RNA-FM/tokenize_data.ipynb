{
 "cells": [
  {
   "cell_type": "markdown",
   "id": "65086c2f-fb04-4a8c-b352-6e9b6ada77b2",
   "metadata": {},
   "source": [
    "# Tokenize IRES sequences"
   ]
  },
  {
   "cell_type": "code",
   "execution_count": 1,
   "id": "adafa5f1-8526-4510-a410-a95b4c904dbf",
   "metadata": {
    "tags": []
   },
   "outputs": [
    {
     "name": "stderr",
     "output_type": "stream",
     "text": [
      "/work/home/rnasys/anaconda3/envs/RNA-FM/lib/python3.8/site-packages/tqdm/auto.py:21: TqdmWarning: IProgress not found. Please update jupyter and ipywidgets. See https://ipywidgets.readthedocs.io/en/stable/user_install.html\n",
      "  from .autonotebook import tqdm as notebook_tqdm\n"
     ]
    }
   ],
   "source": [
    "from transformers import AutoTokenizer\n",
    "from datasets import load_dataset\n",
    "import multiprocessing as mp\n",
    "import pandas as pd\n",
    "import random\n",
    "import os"
   ]
  },
  {
   "cell_type": "code",
   "execution_count": 2,
   "id": "710334f4-8f97-4df5-8dcd-4de3efae8380",
   "metadata": {
    "tags": []
   },
   "outputs": [],
   "source": [
    "os.chdir('/work/home/rnasys/zhouhanwen/github/LAMAR_baselines/')"
   ]
  },
  {
   "cell_type": "code",
   "execution_count": 3,
   "id": "58fc3eed-184a-450d-b440-4828de7ebada",
   "metadata": {
    "tags": []
   },
   "outputs": [],
   "source": [
    "# tokenizer\n",
    "tokenizer_path = 'tokenizer/RNA-FM/'\n",
    "model_max_length = 1500\n",
    "tokenizer = AutoTokenizer.from_pretrained(tokenizer_path, model_max_length=model_max_length)"
   ]
  },
  {
   "cell_type": "code",
   "execution_count": 4,
   "id": "72118c87-e477-4129-af92-34fbdc57c818",
   "metadata": {
    "tags": []
   },
   "outputs": [],
   "source": [
    "def group_texts(examples):\n",
    "    tokenized_inputs = tokenizer(examples[\"seq\"], truncation=True, max_length=tokenizer.model_max_length)\n",
    "    tokenized_inputs[\"labels\"] = examples[\"label\"]\n",
    "    return tokenized_inputs"
   ]
  },
  {
   "cell_type": "code",
   "execution_count": 5,
   "id": "c141f90f-63de-40a4-b634-628c8dd5a87b",
   "metadata": {
    "tags": []
   },
   "outputs": [],
   "source": [
    "# paths of training set and testing set\n",
    "train_set_path = 'IRESPred/data/training_set.Pos1Fold.Train1Fold.4.csv'\n",
    "test_set_path = 'IRESPred/data/testing_set.Pos1Fold.Train1Fold.4.csv'\n",
    "# path of saving file\n",
    "data_path = 'IRESPred/data/IRES_RNA-FM_4/'"
   ]
  },
  {
   "cell_type": "code",
   "execution_count": 6,
   "id": "6fffdacc-3129-4c97-b938-3f9cdaed2a4e",
   "metadata": {
    "tags": []
   },
   "outputs": [
    {
     "name": "stderr",
     "output_type": "stream",
     "text": [
      "Generating train split: 1850 examples [00:00, 70640.11 examples/s]\n",
      "Generating test split: 1952 examples [00:00, 139019.60 examples/s]\n",
      "Map (num_proc=32): 100%|██████████| 1850/1850 [00:00<00:00, 2786.75 examples/s]\n",
      "Map (num_proc=32): 100%|██████████| 1952/1952 [00:00<00:00, 2941.65 examples/s]\n",
      "Saving the dataset (32/32 shards): 100%|██████████| 1850/1850 [00:00<00:00, 3041.14 examples/s]\n",
      "Saving the dataset (32/32 shards): 100%|██████████| 1952/1952 [00:00<00:00, 3176.30 examples/s]\n"
     ]
    }
   ],
   "source": [
    "dataset = load_dataset(\"csv\", data_files={'train': train_set_path, 'test': test_set_path})\n",
    "data = dataset.map(group_texts, batched=True, num_proc=mp.cpu_count())\n",
    "data.save_to_disk(data_path, num_proc=mp.cpu_count())"
   ]
  },
  {
   "cell_type": "code",
   "execution_count": 7,
   "id": "de0da49a-a27f-4f80-abee-74284b844a87",
   "metadata": {
    "tags": []
   },
   "outputs": [
    {
     "data": {
      "text/plain": [
       "DatasetDict({\n",
       "    train: Dataset({\n",
       "        features: ['seq', 'label', 'input_ids', 'attention_mask', 'labels'],\n",
       "        num_rows: 1850\n",
       "    })\n",
       "    test: Dataset({\n",
       "        features: ['seq', 'label', 'input_ids', 'attention_mask', 'labels'],\n",
       "        num_rows: 1952\n",
       "    })\n",
       "})"
      ]
     },
     "execution_count": 7,
     "metadata": {},
     "output_type": "execute_result"
    }
   ],
   "source": [
    "data"
   ]
  },
  {
   "cell_type": "code",
   "execution_count": null,
   "id": "35bbb754-2cfd-4b1d-a97e-39f4584cdcfe",
   "metadata": {},
   "outputs": [],
   "source": []
  }
 ],
 "metadata": {
  "kernelspec": {
   "display_name": "RNA-FM",
   "language": "python",
   "name": "rna-fm"
  },
  "language_info": {
   "codemirror_mode": {
    "name": "ipython",
    "version": 3
   },
   "file_extension": ".py",
   "mimetype": "text/x-python",
   "name": "python",
   "nbconvert_exporter": "python",
   "pygments_lexer": "ipython3",
   "version": "3.8.11"
  }
 },
 "nbformat": 4,
 "nbformat_minor": 5
}
