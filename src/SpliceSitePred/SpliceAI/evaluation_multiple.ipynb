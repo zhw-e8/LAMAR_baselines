{
 "cells": [
  {
   "cell_type": "code",
   "execution_count": 1,
   "id": "b3b3d49a-3e68-4b0a-85c0-7fb58713d5b5",
   "metadata": {},
   "outputs": [
    {
     "name": "stderr",
     "output_type": "stream",
     "text": [
      "Using TensorFlow backend.\n",
      "2025-05-16 18:22:38.525042: I tensorflow/stream_executor/platform/default/dso_loader.cc:50] Successfully opened dynamic library libcudart.so.12\n"
     ]
    },
    {
     "name": "stdout",
     "output_type": "stream",
     "text": [
      "WARNING:tensorflow:Deprecation warnings have been disabled. Set TF_ENABLE_DEPRECATION_WARNINGS=1 to re-enable them.\n"
     ]
    }
   ],
   "source": [
    "from evaluation import evaluate"
   ]
  },
  {
   "cell_type": "code",
   "execution_count": 2,
   "id": "2791e344-62fb-4d38-9bc6-2485d5b5a644",
   "metadata": {},
   "outputs": [
    {
     "name": "stdout",
     "output_type": "stream",
     "text": [
      "2000\n"
     ]
    },
    {
     "name": "stderr",
     "output_type": "stream",
     "text": [
      "2025-05-16 18:22:59.306152: I tensorflow/stream_executor/platform/default/dso_loader.cc:50] Successfully opened dynamic library libcuda.so.1\n",
      "2025-05-16 18:22:59.522048: I tensorflow/core/common_runtime/gpu/gpu_device.cc:1674] Found device 0 with properties: \n",
      "name: NVIDIA A800 80GB PCIe LC major: 8 minor: 0 memoryClockRate(GHz): 1.41\n",
      "pciBusID: 0000:b9:00.0\n",
      "2025-05-16 18:22:59.522090: I tensorflow/stream_executor/platform/default/dso_loader.cc:50] Successfully opened dynamic library libcudart.so.12\n",
      "2025-05-16 18:22:59.554463: I tensorflow/stream_executor/platform/default/dso_loader.cc:50] Successfully opened dynamic library libcublas.so.12\n",
      "2025-05-16 18:22:59.559694: I tensorflow/stream_executor/platform/default/dso_loader.cc:50] Successfully opened dynamic library libcufft.so.11\n",
      "2025-05-16 18:22:59.560411: I tensorflow/stream_executor/platform/default/dso_loader.cc:50] Successfully opened dynamic library libcurand.so.10\n",
      "2025-05-16 18:22:59.566031: I tensorflow/stream_executor/platform/default/dso_loader.cc:50] Successfully opened dynamic library libcusolver.so.11\n",
      "2025-05-16 18:22:59.566120: I tensorflow/stream_executor/platform/default/dso_loader.cc:50] Successfully opened dynamic library libcusparse.so.12\n",
      "2025-05-16 18:22:59.566303: I tensorflow/stream_executor/platform/default/dso_loader.cc:50] Successfully opened dynamic library libcudnn.so.8\n",
      "2025-05-16 18:22:59.568853: I tensorflow/core/common_runtime/gpu/gpu_device.cc:1802] Adding visible gpu devices: 0\n",
      "2025-05-16 18:22:59.580761: I tensorflow/core/platform/profile_utils/cpu_utils.cc:109] CPU Frequency: 1999985000 Hz\n",
      "2025-05-16 18:22:59.581415: I tensorflow/compiler/xla/service/service.cc:168] XLA service 0x83720480 initialized for platform Host (this does not guarantee that XLA will be used). Devices:\n",
      "2025-05-16 18:22:59.581455: I tensorflow/compiler/xla/service/service.cc:176]   StreamExecutor device (0): Host, Default Version\n",
      "2025-05-16 18:22:59.955645: I tensorflow/compiler/xla/service/service.cc:168] XLA service 0x82f76ab0 initialized for platform CUDA (this does not guarantee that XLA will be used). Devices:\n",
      "2025-05-16 18:22:59.955681: I tensorflow/compiler/xla/service/service.cc:176]   StreamExecutor device (0): NVIDIA A800 80GB PCIe LC, Compute Capability 8.0\n",
      "2025-05-16 18:22:59.957341: I tensorflow/core/common_runtime/gpu/gpu_device.cc:1674] Found device 0 with properties: \n",
      "name: NVIDIA A800 80GB PCIe LC major: 8 minor: 0 memoryClockRate(GHz): 1.41\n",
      "pciBusID: 0000:b9:00.0\n",
      "2025-05-16 18:22:59.957385: I tensorflow/stream_executor/platform/default/dso_loader.cc:50] Successfully opened dynamic library libcudart.so.12\n",
      "2025-05-16 18:22:59.957413: I tensorflow/stream_executor/platform/default/dso_loader.cc:50] Successfully opened dynamic library libcublas.so.12\n",
      "2025-05-16 18:22:59.957428: I tensorflow/stream_executor/platform/default/dso_loader.cc:50] Successfully opened dynamic library libcufft.so.11\n",
      "2025-05-16 18:22:59.957440: I tensorflow/stream_executor/platform/default/dso_loader.cc:50] Successfully opened dynamic library libcurand.so.10\n",
      "2025-05-16 18:22:59.957453: I tensorflow/stream_executor/platform/default/dso_loader.cc:50] Successfully opened dynamic library libcusolver.so.11\n",
      "2025-05-16 18:22:59.957465: I tensorflow/stream_executor/platform/default/dso_loader.cc:50] Successfully opened dynamic library libcusparse.so.12\n",
      "2025-05-16 18:22:59.957478: I tensorflow/stream_executor/platform/default/dso_loader.cc:50] Successfully opened dynamic library libcudnn.so.8\n",
      "2025-05-16 18:22:59.959811: I tensorflow/core/common_runtime/gpu/gpu_device.cc:1802] Adding visible gpu devices: 0\n",
      "2025-05-16 18:22:59.959851: I tensorflow/stream_executor/platform/default/dso_loader.cc:50] Successfully opened dynamic library libcudart.so.12\n",
      "2025-05-16 18:22:59.969493: I tensorflow/core/common_runtime/gpu/gpu_device.cc:1214] Device interconnect StreamExecutor with strength 1 edge matrix:\n",
      "2025-05-16 18:22:59.969522: I tensorflow/core/common_runtime/gpu/gpu_device.cc:1220]      0 \n",
      "2025-05-16 18:22:59.969530: I tensorflow/core/common_runtime/gpu/gpu_device.cc:1233] 0:   N \n",
      "2025-05-16 18:22:59.972355: I tensorflow/core/common_runtime/gpu/gpu_device.cc:1359] Created TensorFlow device (/job:localhost/replica:0/task:0/device:GPU:0 with 78827 MB memory) -> physical GPU (device: 0, name: NVIDIA A800 80GB PCIe LC, pci bus id: 0000:b9:00.0, compute capability: 8.0)\n",
      "/usr/local/lib/python3.8/dist-packages/keras/engine/saving.py:341: UserWarning: No training configuration found in save file: the model was *not* compiled. Compile it manually.\n",
      "  warnings.warn('No training configuration found in save file: '\n",
      "  0%|          | 0/16505 [00:00<?, ?it/s]"
     ]
    },
    {
     "name": "stdout",
     "output_type": "stream",
     "text": [
      "WARNING:tensorflow:From /usr/local/lib/python3.8/dist-packages/keras/backend/tensorflow_backend.py:422: The name tf.global_variables is deprecated. Please use tf.compat.v1.global_variables instead.\n",
      "\n"
     ]
    },
    {
     "name": "stderr",
     "output_type": "stream",
     "text": [
      "2025-05-16 18:23:25.074901: I tensorflow/stream_executor/platform/default/dso_loader.cc:50] Successfully opened dynamic library libcudnn.so.8\n",
      "2025-05-16 18:23:25.630002: I tensorflow/stream_executor/platform/default/dso_loader.cc:50] Successfully opened dynamic library libcublas.so.12\n",
      "100%|██████████| 16505/16505 [14:04<00:00, 19.54it/s]\n"
     ]
    }
   ],
   "source": [
    "for x in [2000]:\n",
    "    print(x)\n",
    "    evaluate(\n",
    "        weight_path='/work/home/rnasys/zhouhanwen/github/LAMAR_baselines/SpliceAI/weights/SpliceNet{}_'.format(x) + 'c{}.h5', \n",
    "        data_path='/work/home/rnasys/zhouhanwen/github/LAMAR_baselines/SpliceSitePred/data/gencode_test_exon_{}.json'.format(x), \n",
    "        output_path='/work/home/rnasys/zhouhanwen/github/LAMAR_baselines/SpliceSitePred/data/evaluation_{}_c.csv'.format(x), \n",
    "        start=int(x/2)\n",
    "    )"
   ]
  },
  {
   "cell_type": "code",
   "execution_count": null,
   "id": "ba72ad3c-37da-4083-b8ee-2b2c77d6f878",
   "metadata": {},
   "outputs": [],
   "source": []
  }
 ],
 "metadata": {
  "kernelspec": {
   "display_name": "Python 3 (ipykernel)",
   "language": "python",
   "name": "python3"
  },
  "language_info": {
   "codemirror_mode": {
    "name": "ipython",
    "version": 3
   },
   "file_extension": ".py",
   "mimetype": "text/x-python",
   "name": "python",
   "nbconvert_exporter": "python",
   "pygments_lexer": "ipython3",
   "version": "3.8.10"
  }
 },
 "nbformat": 4,
 "nbformat_minor": 5
}
