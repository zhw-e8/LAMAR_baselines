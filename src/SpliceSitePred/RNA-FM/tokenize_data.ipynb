{
 "cells": [
  {
   "cell_type": "markdown",
   "id": "65086c2f-fb04-4a8c-b352-6e9b6ada77b2",
   "metadata": {},
   "source": [
    "# Tokenize pre-mRNA sequences"
   ]
  },
  {
   "cell_type": "code",
   "execution_count": null,
   "id": "adafa5f1-8526-4510-a410-a95b4c904dbf",
   "metadata": {
    "tags": []
   },
   "outputs": [],
   "source": [
    "from transformers import AutoTokenizer\n",
    "from datasets import load_dataset, Dataset\n",
    "import multiprocessing as mp\n",
    "import pandas as pd\n",
    "import random\n",
    "import json\n",
    "import os"
   ]
  },
  {
   "cell_type": "code",
   "execution_count": null,
   "id": "710334f4-8f97-4df5-8dcd-4de3efae8380",
   "metadata": {
    "tags": []
   },
   "outputs": [],
   "source": [
    "os.chdir('/work/home/rnasys/zhouhanwen/github/LAMAR_baselines/')"
   ]
  },
  {
   "cell_type": "code",
   "execution_count": null,
   "id": "58fc3eed-184a-450d-b440-4828de7ebada",
   "metadata": {
    "tags": []
   },
   "outputs": [],
   "source": [
    "# tokenizer\n",
    "tokenizer_path = 'tokenizer/RNA-FM/'\n",
    "model_max_length = 1026\n",
    "tokenizer = AutoTokenizer.from_pretrained(tokenizer_path, model_max_length=model_max_length)"
   ]
  },
  {
   "cell_type": "code",
   "execution_count": null,
   "id": "72118c87-e477-4129-af92-34fbdc57c818",
   "metadata": {
    "tags": []
   },
   "outputs": [],
   "source": [
    "def group_texts(examples):\n",
    "    tokenized_inputs = tokenizer(examples[\"seq\"], truncation=True, max_length=tokenizer.model_max_length)\n",
    "    tokenized_inputs[\"labels\"] = examples[\"label\"]\n",
    "    return tokenized_inputs"
   ]
  },
  {
   "cell_type": "code",
   "execution_count": null,
   "id": "e5a56f96-055e-4e8a-9666-eea9d9ff1704",
   "metadata": {
    "tags": []
   },
   "outputs": [],
   "source": [
    "# paths of training set and testing set\n",
    "train_set_path = 'SpliceSitePred/data/RNA-FM/gencode_train.json'\n",
    "# path of saving file\n",
    "data_path = 'SpliceSitePred/data/RNA-FM/ss_single_nucleotide'"
   ]
  },
  {
   "cell_type": "code",
   "execution_count": null,
   "id": "f2721759-f14d-4573-b764-0891881ca8aa",
   "metadata": {
    "tags": []
   },
   "outputs": [],
   "source": [
    "with open(train_set_path) as f:\n",
    "    train_set = json.load(f)"
   ]
  },
  {
   "cell_type": "code",
   "execution_count": null,
   "id": "6fffdacc-3129-4c97-b938-3f9cdaed2a4e",
   "metadata": {
    "tags": []
   },
   "outputs": [],
   "source": [
    "# This step takes ~30 mins. Please wait a moment. We will speed up this process.\n",
    "# Not-known bug will report if use: dataset = load_dataset(\"json\", data_files=train_set_path).\n",
    "# We directly load the data in memory.\n",
    "dataset = Dataset.from_list(train_set)\n",
    "data = dataset.map(group_texts, batched=True, num_proc=mp.cpu_count())\n",
    "data = data.remove_columns([\"seq\", \"label\"])\n",
    "# data = data[\"train\"].train_test_split(test_size=0.001, shuffle=True, seed=42)\n",
    "data = data.train_test_split(test_size=0.001, shuffle=True, seed=42)\n",
    "# Not-known bug will report if set num_proc=mp.cpu_count().\n",
    "data.save_to_disk(data_path, num_proc=1)"
   ]
  },
  {
   "cell_type": "code",
   "execution_count": null,
   "id": "7df99ec6-fa3b-48eb-84b7-76d05e5de8d1",
   "metadata": {
    "tags": []
   },
   "outputs": [],
   "source": [
    "data"
   ]
  },
  {
   "cell_type": "code",
   "execution_count": null,
   "id": "07a683b2-282a-4be6-9d27-5bcdb25b99a8",
   "metadata": {},
   "outputs": [],
   "source": []
  }
 ],
 "metadata": {
  "kernelspec": {
   "display_name": "RNA-FM",
   "language": "python",
   "name": "rna-fm"
  },
  "language_info": {
   "codemirror_mode": {
    "name": "ipython",
    "version": 3
   },
   "file_extension": ".py",
   "mimetype": "text/x-python",
   "name": "python",
   "nbconvert_exporter": "python",
   "pygments_lexer": "ipython3",
   "version": "3.8.11"
  }
 },
 "nbformat": 4,
 "nbformat_minor": 5
}
