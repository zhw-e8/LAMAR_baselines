{
 "cells": [
  {
   "cell_type": "markdown",
   "id": "0f8bf721-c9b6-4f5e-abe6-87d829b9baf5",
   "metadata": {},
   "source": [
    "# Fine-tune RNA-FM to predict the splice sites of pre-mRNAs"
   ]
  },
  {
   "cell_type": "code",
   "execution_count": null,
   "id": "83cd4d29-9db6-4304-8311-7ea2636a4a28",
   "metadata": {
    "tags": []
   },
   "outputs": [],
   "source": [
    "import sys\n",
    "sys.path.append('/work/home/rnasys/zhouhanwen/github/LAMAR_baselines/RNA-FM/')\n",
    "from token_classification_patch import Config, RnafmForTokenClassification\n",
    "from transformers import AutoConfig, AutoTokenizer, DataCollatorForTokenClassification, TrainingArguments, Trainer\n",
    "from datasets import load_dataset, load_from_disk\n",
    "from safetensors.torch import load_file, load_model\n",
    "from sklearn.metrics import roc_auc_score, precision_recall_curve, auc\n",
    "from scipy.special import softmax\n",
    "import os\n",
    "import pandas as pd\n",
    "import torch\n",
    "import evaluate\n",
    "import numpy as np"
   ]
  },
  {
   "cell_type": "code",
   "execution_count": null,
   "id": "fa421e6c-12f2-4dbd-ac50-de16e90c7d2d",
   "metadata": {
    "tags": []
   },
   "outputs": [],
   "source": [
    "os.chdir('/work/home/rnasys/zhouhanwen/github/LAMAR_baselines/')"
   ]
  },
  {
   "cell_type": "code",
   "execution_count": null,
   "id": "80fdd301-a91c-4a4d-ae1b-da6ff1ade2a6",
   "metadata": {
    "tags": []
   },
   "outputs": [],
   "source": [
    "tokenizer_path = 'tokenizer/RNA-FM/'\n",
    "model_max_length = 1026\n",
    "hidden_size = 640\n",
    "num_labels = 3\n",
    "hidden_dropout_prob = 0\n",
    "data_path = 'SpliceSitePred/data/RNA-FM/ss_single_nucleotide/'\n",
    "freeze = False\n",
    "batch_size = 4\n",
    "peak_lr = 1e-4\n",
    "warmup_ratio = 0.05\n",
    "total_epochs = 4\n",
    "grad_clipping_norm = 1\n",
    "accum_steps = 2\n",
    "output_dir = 'SpliceSitePred/saving_model/RNA-FM/bs128_lr1e-4_wr0.05_4epochs'\n",
    "# output_dir = 'SpliceSitePred/saving_model/RNA-FM/test'\n",
    "save_epochs = 1000\n",
    "logging_steps = 100\n",
    "fp16 = False\n",
    "flash_attention = False"
   ]
  },
  {
   "cell_type": "code",
   "execution_count": null,
   "id": "61816792-59a8-43ac-9664-7e1f5dbe3200",
   "metadata": {
    "tags": []
   },
   "outputs": [],
   "source": [
    "# Tokenizer\n",
    "tokenizer = AutoTokenizer.from_pretrained(tokenizer_path, model_max_length=model_max_length)\n",
    "\n",
    "# Config\n",
    "hyperparams = Config(hidden_size=hidden_size, num_labels=num_labels, hidden_dropout_prob=hidden_dropout_prob)\n",
    "\n",
    "# Training data\n",
    "data = load_from_disk(data_path)\n",
    "\n",
    "# Data Collator\n",
    "data_collator = DataCollatorForTokenClassification(\n",
    "    tokenizer=tokenizer, padding=\"max_length\", max_length=tokenizer.model_max_length\n",
    ")\n",
    "\n",
    "# Model\n",
    "pretrained_state_path = 'RNA-FM/RNA-FM_pretrained.pth'\n",
    "model = RnafmForTokenClassification(pretrained_weights_location=pretrained_state_path, hyperparams=hyperparams, freeze=freeze)"
   ]
  },
  {
   "cell_type": "code",
   "execution_count": null,
   "id": "6236a678-a1e8-4408-aafc-77a4247cdd51",
   "metadata": {
    "tags": []
   },
   "outputs": [],
   "source": [
    "# Training arguments\n",
    "train_args = TrainingArguments(\n",
    "    disable_tqdm=False, \n",
    "    save_total_limit=1, \n",
    "    dataloader_drop_last=True, \n",
    "    per_device_train_batch_size=batch_size, \n",
    "    per_device_eval_batch_size=16, \n",
    "    learning_rate=peak_lr, \n",
    "    weight_decay=0.01, \n",
    "    adam_beta1=0.9, \n",
    "    adam_beta2=0.98, \n",
    "    adam_epsilon=1e-8, \n",
    "    warmup_ratio=warmup_ratio, \n",
    "    num_train_epochs=total_epochs, \n",
    "    max_grad_norm=grad_clipping_norm, \n",
    "    gradient_accumulation_steps=accum_steps, \n",
    "    output_dir=output_dir, \n",
    "    evaluation_strategy=\"steps\",\n",
    "    eval_steps=logging_steps, \n",
    "    save_strategy='steps', \n",
    "    save_steps=save_epochs, \n",
    "    logging_strategy = 'steps', \n",
    "    logging_steps=logging_steps, \n",
    "    fp16=fp16, \n",
    "    report_to=\"none\", \n",
    "    save_safetensors=False\n",
    ")"
   ]
  },
  {
   "cell_type": "code",
   "execution_count": null,
   "id": "13a55929-dece-4e0a-81e6-d3f1cccec107",
   "metadata": {
    "tags": []
   },
   "outputs": [],
   "source": [
    "# evaluation metrics\n",
    "def compute_binary_pr_auc(reference, predict_logits):\n",
    "    precision, recall, _ = precision_recall_curve(reference, predict_logits)\n",
    "    return auc(recall, precision)\n",
    "\n",
    "\n",
    "def compute_ovr_pr_auc(reference, predict_logits, average=None, ignore_idx=[]):\n",
    "    n_classes = predict_logits.shape[1]\n",
    "    pr_aucs = []\n",
    "    for class_idx in range(n_classes):\n",
    "        if class_idx not in ignore_idx:\n",
    "            pr_auc = compute_binary_pr_auc((reference == class_idx).astype(int), predict_logits[:, class_idx])\n",
    "            pr_aucs.append(pr_auc)\n",
    "    if average == \"macro\":\n",
    "        return np.mean(pr_aucs)\n",
    "    elif average == \"weighted\":\n",
    "        class_counts = np.bincount(reference)\n",
    "        weighted_pr_aucs = np.array(pr_aucs) * class_counts / len(reference)\n",
    "        return np.sum(weighted_pr_aucs)\n",
    "    else:\n",
    "        return pr_aucs\n",
    "\n",
    "\n",
    "def compute_ovo_pr_auc(reference, predict_logits, average=None):\n",
    "    # OvO is not directly supported by precision_recall_curve\n",
    "    raise NotImplementedError(\"OvO PR AUC computation is not implemented yet.\")\n",
    "\n",
    "\n",
    "def pr_auc_score(reference, predict_logits, multi_class=None, average=None):\n",
    "    if multi_class == \"ovr\":\n",
    "        pr_auc = compute_ovr_pr_auc(reference, predict_logits, average=average)\n",
    "    elif multi_class == \"ovo\":\n",
    "        pr_auc = compute_ovo_pr_auc(reference, predict_logits, average=average)\n",
    "    else:\n",
    "        pr_auc = compute_binary_pr_auc(reference, predict_logits)\n",
    "    return pr_auc\n",
    "\n",
    "\n",
    "def compute_metrics(p):\n",
    "    ignore_label = -100\n",
    "    logits, labels = p\n",
    "    softpred = softmax(logits, axis=2)\n",
    "    pred_label = np.argmax(softpred, axis=2).astype(np.int8)\n",
    "    logits = softpred.reshape((softpred.shape[0] * softpred.shape[1], -1))\n",
    "    table = pd.DataFrame(logits)\n",
    "    table[\"pred\"] = np.array(pred_label).flatten()\n",
    "    table[\"true\"] = np.array(labels).flatten()\n",
    "    table = table[table[\"true\"] != ignore_label]\n",
    "    # print(\"finish flatten\")\n",
    "    result = {}\n",
    "    counts = table.true.value_counts().to_dict()\n",
    "    result[\"topk\"] = {\n",
    "        \"topk\": {k: sum((table.sort_values(by=k, ascending=False)[:v]).true == k) / v for k, v in counts.items()}\n",
    "    }\n",
    "    scores = table.loc[:, table.columns[~table.columns.isin([\"pred\", \"true\"])]].values\n",
    "    result[\"roc_auc\"] = list(\n",
    "        roc_auc_score(\n",
    "            table[\"true\"],\n",
    "            scores,\n",
    "            multi_class=\"ovr\",\n",
    "            average=None\n",
    "        )\n",
    "    )\n",
    "    result[\"pr_auc\"] = list(\n",
    "        pr_auc_score(\n",
    "            table[\"true\"],\n",
    "            scores,\n",
    "            multi_class=\"ovr\",\n",
    "            average=None\n",
    "        )\n",
    "    )\n",
    "    return result"
   ]
  },
  {
   "cell_type": "code",
   "execution_count": null,
   "id": "33ea2547-673a-46b1-99ab-78fca4ec2229",
   "metadata": {
    "tags": []
   },
   "outputs": [],
   "source": [
    "# Trainer\n",
    "trainer = Trainer(\n",
    "    model=model,\n",
    "    args=train_args,\n",
    "    train_dataset=data['train'], \n",
    "    eval_dataset=data['test'],\n",
    "    data_collator=data_collator, \n",
    "    tokenizer=tokenizer, \n",
    "    compute_metrics=compute_metrics\n",
    ")"
   ]
  },
  {
   "cell_type": "code",
   "execution_count": null,
   "id": "c696d7f2-fb0f-4539-9beb-606fef4be70a",
   "metadata": {
    "tags": []
   },
   "outputs": [],
   "source": [
    "trainer.train()"
   ]
  },
  {
   "cell_type": "code",
   "execution_count": null,
   "id": "4ca067e0-57f4-486f-948d-35e7949aa30b",
   "metadata": {},
   "outputs": [],
   "source": []
  }
 ],
 "metadata": {
  "kernelspec": {
   "display_name": "RNA-FM",
   "language": "python",
   "name": "rna-fm"
  },
  "language_info": {
   "codemirror_mode": {
    "name": "ipython",
    "version": 3
   },
   "file_extension": ".py",
   "mimetype": "text/x-python",
   "name": "python",
   "nbconvert_exporter": "python",
   "pygments_lexer": "ipython3",
   "version": "3.8.11"
  }
 },
 "nbformat": 4,
 "nbformat_minor": 5
}
