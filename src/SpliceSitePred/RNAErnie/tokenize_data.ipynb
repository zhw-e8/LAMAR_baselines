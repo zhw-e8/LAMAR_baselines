{
 "cells": [
  {
   "cell_type": "markdown",
   "id": "65086c2f-fb04-4a8c-b352-6e9b6ada77b2",
   "metadata": {},
   "source": [
    "# Tokenize pre-mRNA sequences"
   ]
  },
  {
   "cell_type": "code",
   "execution_count": null,
   "id": "adafa5f1-8526-4510-a410-a95b4c904dbf",
   "metadata": {
    "tags": []
   },
   "outputs": [],
   "source": [
    "import sys\n",
    "sys.path.append('/work/home/rnasys/zhouhanwen/github/LAMAR_baselines/RNAErnie')\n",
    "from tokenization_rnaernie import RNAErnieTokenizer\n",
    "from datasets import load_dataset, Dataset\n",
    "import multiprocessing as mp\n",
    "import pandas as pd\n",
    "import random\n",
    "import json\n",
    "import os"
   ]
  },
  {
   "cell_type": "code",
   "execution_count": null,
   "id": "710334f4-8f97-4df5-8dcd-4de3efae8380",
   "metadata": {
    "tags": []
   },
   "outputs": [],
   "source": [
    "os.chdir('/work/home/rnasys/zhouhanwen/github/LAMAR_baselines/')"
   ]
  },
  {
   "cell_type": "code",
   "execution_count": null,
   "id": "58fc3eed-184a-450d-b440-4828de7ebada",
   "metadata": {
    "tags": []
   },
   "outputs": [],
   "source": [
    "# tokenizer\n",
    "tokenizer_path = 'tokenizer/RNAErnie/'\n",
    "model_max_length = 1026\n",
    "tokenizer = RNAErnieTokenizer.from_pretrained('tokenizer/RNAErnie/', model_max_length=model_max_length)"
   ]
  },
  {
   "cell_type": "code",
   "execution_count": null,
   "id": "72118c87-e477-4129-af92-34fbdc57c818",
   "metadata": {
    "tags": []
   },
   "outputs": [],
   "source": [
    "def group_texts(examples):\n",
    "    tokenized_inputs = tokenizer(examples[\"seq\"], truncation=True, max_length=tokenizer.model_max_length)\n",
    "    tokenized_inputs[\"labels\"] = examples[\"label\"]\n",
    "    return tokenized_inputs"
   ]
  },
  {
   "cell_type": "code",
   "execution_count": null,
   "id": "e5a56f96-055e-4e8a-9666-eea9d9ff1704",
   "metadata": {
    "tags": []
   },
   "outputs": [],
   "source": [
    "# paths of training set and testing set\n",
    "train_set_path = 'SpliceSitePred/data/gencode_train.json'\n",
    "# path of saving file\n",
    "data_path = 'SpliceSitePred/data/RNAErnie/ss_single_nucleotide'"
   ]
  },
  {
   "cell_type": "code",
   "execution_count": null,
   "id": "f31e3c16-90e2-4241-b780-3253855a46ff",
   "metadata": {},
   "outputs": [],
   "source": [
    "dataset = load_dataset(\"json\", data_files=train_set_path)"
   ]
  },
  {
   "cell_type": "code",
   "execution_count": null,
   "id": "3205c5db-7b4c-4d88-8793-efb5a4863497",
   "metadata": {},
   "outputs": [],
   "source": [
    "data = dataset.map(group_texts, batched=True, num_proc=mp.cpu_count())"
   ]
  },
  {
   "cell_type": "code",
   "execution_count": null,
   "id": "38237ca4-2e51-4389-bdab-11bd77149b43",
   "metadata": {},
   "outputs": [],
   "source": [
    "data = data.remove_columns([\"seq\", \"label\"])"
   ]
  },
  {
   "cell_type": "code",
   "execution_count": null,
   "id": "2dee478b-c7c7-49f3-bc65-b800a91be49b",
   "metadata": {},
   "outputs": [],
   "source": [
    "data = data[\"train\"].train_test_split(test_size=0.001, shuffle=True, seed=42)"
   ]
  },
  {
   "cell_type": "code",
   "execution_count": null,
   "id": "3e6d1651-e3fe-4025-9415-6a3cc066b688",
   "metadata": {},
   "outputs": [],
   "source": [
    "data.save_to_disk(data_path, num_proc=1)"
   ]
  },
  {
   "cell_type": "code",
   "execution_count": null,
   "id": "7df99ec6-fa3b-48eb-84b7-76d05e5de8d1",
   "metadata": {
    "tags": []
   },
   "outputs": [],
   "source": [
    "data"
   ]
  },
  {
   "cell_type": "code",
   "execution_count": null,
   "id": "408410dd-6a20-4f85-89bc-1773bd8fa031",
   "metadata": {},
   "outputs": [],
   "source": []
  }
 ],
 "metadata": {
  "kernelspec": {
   "display_name": "Python 3 (ipykernel)",
   "language": "python",
   "name": "python3"
  },
  "language_info": {
   "codemirror_mode": {
    "name": "ipython",
    "version": 3
   },
   "file_extension": ".py",
   "mimetype": "text/x-python",
   "name": "python",
   "nbconvert_exporter": "python",
   "pygments_lexer": "ipython3",
   "version": "3.10.14"
  }
 },
 "nbformat": 4,
 "nbformat_minor": 5
}
