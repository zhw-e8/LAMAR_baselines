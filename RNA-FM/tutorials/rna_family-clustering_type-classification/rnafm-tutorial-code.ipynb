{
 "cells": [
  {
   "cell_type": "markdown",
   "id": "746fde64",
   "metadata": {
    "id": "VQmZkG47B96F",
    "papermill": {
     "duration": 0.016397,
     "end_time": "2024-03-23T07:04:13.906356",
     "exception": false,
     "start_time": "2024-03-23T07:04:13.889959",
     "status": "completed"
    },
    "tags": []
   },
   "source": [
    "# RNA-FM Tutorial"
   ]
  },
  {
   "cell_type": "markdown",
   "id": "95fca6d0",
   "metadata": {
    "papermill": {
     "duration": 0.015388,
     "end_time": "2024-03-23T07:04:13.937465",
     "exception": false,
     "start_time": "2024-03-23T07:04:13.922077",
     "status": "completed"
    },
    "tags": []
   },
   "source": [
    "### Workflow of our tutorial\n",
    "\n",
    "**Preparation**\n",
    "1. install the RNA-FM package\n",
    "2. load the necessary libraries\n",
    "\n",
    "**Task 1. RNA family clustering**\n",
    "\n",
    "Goal: to demonstrate that RNA-FM embeddings are biologically meaningful\n",
    "\n",
    "1. read RNA sequences for each family from FASTA files\n",
    "2. generate the RNA-FM embeddings for each sequence\n",
    "3. t-SNE dimension reduction on the generated embeddings\n",
    "4. plot the embeddings in the 2D space\n",
    "\n",
    "**Task 2. RNA type classification**\n",
    "\n",
    "Goal: to demonstrate how to use RNA-FM for downstream applications\n",
    "\n",
    "1. read RNA sequences for each type from a FASTA file\n",
    "2. generate RNA-FM embeddings for each sequence\n",
    "3. build the dataset and model\n",
    "4. train and validate the model\n",
    "5. test the model on a dataset excluded from training"
   ]
  },
  {
   "cell_type": "markdown",
   "id": "4aa92c60",
   "metadata": {
    "id": "Cqup0jpT_vC2",
    "papermill": {
     "duration": 0.015428,
     "end_time": "2024-03-23T07:04:13.969776",
     "exception": false,
     "start_time": "2024-03-23T07:04:13.954348",
     "status": "completed"
    },
    "tags": []
   },
   "source": [
    "## Install RNA-FM"
   ]
  },
  {
   "cell_type": "code",
   "execution_count": 1,
   "id": "7c3a2774",
   "metadata": {
    "execution": {
     "iopub.execute_input": "2024-03-23T07:04:14.002582Z",
     "iopub.status.busy": "2024-03-23T07:04:14.002281Z",
     "iopub.status.idle": "2024-03-23T07:05:11.183082Z",
     "shell.execute_reply": "2024-03-23T07:05:11.182112Z"
    },
    "executionInfo": {
     "elapsed": 5350,
     "status": "ok",
     "timestamp": 1711116729270,
     "user": {
      "displayName": "Jiuming Wang",
      "userId": "02779250306311152610"
     },
     "user_tz": -480
    },
    "id": "UjmcCX_WRKJ9",
    "outputId": "f91bf8c2-3402-467c-e4f5-f671441b1a09",
    "papermill": {
     "duration": 57.200114,
     "end_time": "2024-03-23T07:05:11.185586",
     "exception": false,
     "start_time": "2024-03-23T07:04:13.985472",
     "status": "completed"
    },
    "tags": []
   },
   "outputs": [
    {
     "name": "stdout",
     "output_type": "stream",
     "text": [
      "Collecting rna-fm\r\n",
      "  Downloading rna_fm-0.2.1-py3-none-any.whl.metadata (10 kB)\r\n",
      "Collecting numpy==1.22.0 (from rna-fm)\r\n",
      "  Downloading numpy-1.22.0-cp310-cp310-manylinux_2_17_x86_64.manylinux2014_x86_64.whl.metadata (2.0 kB)\r\n",
      "Collecting pandas==1.3.5 (from rna-fm)\r\n",
      "  Downloading pandas-1.3.5-cp310-cp310-manylinux_2_17_x86_64.manylinux2014_x86_64.whl.metadata (12 kB)\r\n",
      "Collecting tqdm==4.62 (from rna-fm)\r\n",
      "  Downloading tqdm-4.62.0-py2.py3-none-any.whl.metadata (57 kB)\r\n",
      "\u001b[2K     \u001b[90m━━━━━━━━━━━━━━━━━━━━━━━━━━━━━━━━━━━━━━━━\u001b[0m \u001b[32m57.2/57.2 kB\u001b[0m \u001b[31m3.9 MB/s\u001b[0m eta \u001b[36m0:00:00\u001b[0m\r\n",
      "\u001b[?25hRequirement already satisfied: scikit-learn in /opt/conda/lib/python3.10/site-packages (from rna-fm) (1.2.2)\r\n",
      "Collecting ptflops (from rna-fm)\r\n",
      "  Downloading ptflops-0.7.2.2-py3-none-any.whl.metadata (7.2 kB)\r\n",
      "Requirement already satisfied: python-dateutil>=2.7.3 in /opt/conda/lib/python3.10/site-packages (from pandas==1.3.5->rna-fm) (2.9.0.post0)\r\n",
      "Requirement already satisfied: pytz>=2017.3 in /opt/conda/lib/python3.10/site-packages (from pandas==1.3.5->rna-fm) (2023.3.post1)\r\n",
      "Requirement already satisfied: torch in /opt/conda/lib/python3.10/site-packages (from ptflops->rna-fm) (2.1.2)\r\n",
      "Requirement already satisfied: scipy>=1.3.2 in /opt/conda/lib/python3.10/site-packages (from scikit-learn->rna-fm) (1.11.4)\r\n",
      "Requirement already satisfied: joblib>=1.1.1 in /opt/conda/lib/python3.10/site-packages (from scikit-learn->rna-fm) (1.3.2)\r\n",
      "Requirement already satisfied: threadpoolctl>=2.0.0 in /opt/conda/lib/python3.10/site-packages (from scikit-learn->rna-fm) (3.2.0)\r\n",
      "Requirement already satisfied: six>=1.5 in /opt/conda/lib/python3.10/site-packages (from python-dateutil>=2.7.3->pandas==1.3.5->rna-fm) (1.16.0)\r\n",
      "Requirement already satisfied: filelock in /opt/conda/lib/python3.10/site-packages (from torch->ptflops->rna-fm) (3.13.1)\r\n",
      "Requirement already satisfied: typing-extensions in /opt/conda/lib/python3.10/site-packages (from torch->ptflops->rna-fm) (4.9.0)\r\n",
      "Requirement already satisfied: sympy in /opt/conda/lib/python3.10/site-packages (from torch->ptflops->rna-fm) (1.12)\r\n",
      "Requirement already satisfied: networkx in /opt/conda/lib/python3.10/site-packages (from torch->ptflops->rna-fm) (3.2.1)\r\n",
      "Requirement already satisfied: jinja2 in /opt/conda/lib/python3.10/site-packages (from torch->ptflops->rna-fm) (3.1.2)\r\n",
      "Requirement already satisfied: fsspec in /opt/conda/lib/python3.10/site-packages (from torch->ptflops->rna-fm) (2024.3.0)\r\n",
      "Requirement already satisfied: MarkupSafe>=2.0 in /opt/conda/lib/python3.10/site-packages (from jinja2->torch->ptflops->rna-fm) (2.1.3)\r\n",
      "Requirement already satisfied: mpmath>=0.19 in /opt/conda/lib/python3.10/site-packages (from sympy->torch->ptflops->rna-fm) (1.3.0)\r\n",
      "Downloading rna_fm-0.2.1-py3-none-any.whl (46 kB)\r\n",
      "\u001b[2K   \u001b[90m━━━━━━━━━━━━━━━━━━━━━━━━━━━━━━━━━━━━━━━━\u001b[0m \u001b[32m46.6/46.6 kB\u001b[0m \u001b[31m3.2 MB/s\u001b[0m eta \u001b[36m0:00:00\u001b[0m\r\n",
      "\u001b[?25hDownloading numpy-1.22.0-cp310-cp310-manylinux_2_17_x86_64.manylinux2014_x86_64.whl (16.8 MB)\r\n",
      "\u001b[2K   \u001b[90m━━━━━━━━━━━━━━━━━━━━━━━━━━━━━━━━━━━━━━━━\u001b[0m \u001b[32m16.8/16.8 MB\u001b[0m \u001b[31m82.2 MB/s\u001b[0m eta \u001b[36m0:00:00\u001b[0m\r\n",
      "\u001b[?25hDownloading pandas-1.3.5-cp310-cp310-manylinux_2_17_x86_64.manylinux2014_x86_64.whl (11.5 MB)\r\n",
      "\u001b[2K   \u001b[90m━━━━━━━━━━━━━━━━━━━━━━━━━━━━━━━━━━━━━━━━\u001b[0m \u001b[32m11.5/11.5 MB\u001b[0m \u001b[31m84.7 MB/s\u001b[0m eta \u001b[36m0:00:00\u001b[0m\r\n",
      "\u001b[?25hDownloading tqdm-4.62.0-py2.py3-none-any.whl (76 kB)\r\n",
      "\u001b[2K   \u001b[90m━━━━━━━━━━━━━━━━━━━━━━━━━━━━━━━━━━━━━━━━\u001b[0m \u001b[32m76.0/76.0 kB\u001b[0m \u001b[31m5.0 MB/s\u001b[0m eta \u001b[36m0:00:00\u001b[0m\r\n",
      "\u001b[?25hDownloading ptflops-0.7.2.2-py3-none-any.whl (15 kB)\r\n",
      "Installing collected packages: tqdm, numpy, pandas, ptflops, rna-fm\r\n",
      "  Attempting uninstall: tqdm\r\n",
      "    Found existing installation: tqdm 4.66.1\r\n",
      "    Uninstalling tqdm-4.66.1:\r\n",
      "      Successfully uninstalled tqdm-4.66.1\r\n",
      "  Attempting uninstall: numpy\r\n",
      "    Found existing installation: numpy 1.26.4\r\n",
      "    Uninstalling numpy-1.26.4:\r\n",
      "      Successfully uninstalled numpy-1.26.4\r\n",
      "  Attempting uninstall: pandas\r\n",
      "    Found existing installation: pandas 2.1.4\r\n",
      "    Uninstalling pandas-2.1.4:\r\n",
      "      Successfully uninstalled pandas-2.1.4\r\n",
      "\u001b[31mERROR: pip's dependency resolver does not currently take into account all the packages that are installed. This behaviour is the source of the following dependency conflicts.\r\n",
      "cudf 23.8.0 requires cubinlinker, which is not installed.\r\n",
      "cudf 23.8.0 requires cupy-cuda11x>=12.0.0, which is not installed.\r\n",
      "cudf 23.8.0 requires ptxcompiler, which is not installed.\r\n",
      "cuml 23.8.0 requires cupy-cuda11x>=12.0.0, which is not installed.\r\n",
      "dask-cudf 23.8.0 requires cupy-cuda11x>=12.0.0, which is not installed.\r\n",
      "keras-cv 0.8.2 requires keras-core, which is not installed.\r\n",
      "keras-nlp 0.8.2 requires keras-core, which is not installed.\r\n",
      "tensorflow-decision-forests 1.8.1 requires wurlitzer, which is not installed.\r\n",
      "albumentations 1.4.0 requires numpy>=1.24.4, but you have numpy 1.22.0 which is incompatible.\r\n",
      "apache-beam 2.46.0 requires dill<0.3.2,>=0.3.1.1, but you have dill 0.3.8 which is incompatible.\r\n",
      "apache-beam 2.46.0 requires pyarrow<10.0.0,>=3.0.0, but you have pyarrow 11.0.0 which is incompatible.\r\n",
      "arviz 0.17.1 requires pandas>=1.4.0, but you have pandas 1.3.5 which is incompatible.\r\n",
      "beatrix-jupyterlab 2023.128.151533 requires jupyterlab~=3.6.0, but you have jupyterlab 4.1.5 which is incompatible.\r\n",
      "chex 0.1.85 requires numpy>=1.24.1, but you have numpy 1.22.0 which is incompatible.\r\n",
      "cudf 23.8.0 requires cuda-python<12.0a0,>=11.7.1, but you have cuda-python 12.4.0 which is incompatible.\r\n",
      "cudf 23.8.0 requires protobuf<5,>=4.21, but you have protobuf 3.20.3 which is incompatible.\r\n",
      "cuml 23.8.0 requires dask==2023.7.1, but you have dask 2024.3.1 which is incompatible.\r\n",
      "dask-cuda 23.8.0 requires dask==2023.7.1, but you have dask 2024.3.1 which is incompatible.\r\n",
      "dask-cudf 23.8.0 requires dask==2023.7.1, but you have dask 2024.3.1 which is incompatible.\r\n",
      "dask-expr 1.0.4 requires pandas>=2, but you have pandas 1.3.5 which is incompatible.\r\n",
      "datasets 2.1.0 requires tqdm>=4.62.1, but you have tqdm 4.62.0 which is incompatible.\r\n",
      "dipy 1.9.0 requires numpy>=1.22.4, but you have numpy 1.22.0 which is incompatible.\r\n",
      "esda 2.5.1 requires pandas>1.4, but you have pandas 1.3.5 which is incompatible.\r\n",
      "featuretools 1.30.0 requires numpy>=1.25.0, but you have numpy 1.22.0 which is incompatible.\r\n",
      "featuretools 1.30.0 requires pandas>=2.0.0, but you have pandas 1.3.5 which is incompatible.\r\n",
      "fitter 1.7.0 requires tqdm<5.0.0,>=4.65.1, but you have tqdm 4.62.0 which is incompatible.\r\n",
      "geopandas 0.14.3 requires pandas>=1.4.0, but you have pandas 1.3.5 which is incompatible.\r\n",
      "inequality 1.0.1 requires numpy>=1.23, but you have numpy 1.22.0 which is incompatible.\r\n",
      "libpysal 4.9.2 requires packaging>=22, but you have packaging 21.3 which is incompatible.\r\n",
      "libpysal 4.9.2 requires pandas>=1.4, but you have pandas 1.3.5 which is incompatible.\r\n",
      "libpysal 4.9.2 requires shapely>=2.0.1, but you have shapely 1.8.5.post1 which is incompatible.\r\n",
      "librosa 0.10.1 requires numpy!=1.22.0,!=1.22.1,!=1.22.2,>=1.20.3, but you have numpy 1.22.0 which is incompatible.\r\n",
      "mapclassify 2.6.1 requires numpy>=1.23, but you have numpy 1.22.0 which is incompatible.\r\n",
      "mapclassify 2.6.1 requires pandas!=1.5.0,>=1.4, but you have pandas 1.3.5 which is incompatible.\r\n",
      "mizani 0.11.0 requires numpy>=1.23.0, but you have numpy 1.22.0 which is incompatible.\r\n",
      "mizani 0.11.0 requires pandas>=2.1.0, but you have pandas 1.3.5 which is incompatible.\r\n",
      "momepy 0.7.0 requires shapely>=2, but you have shapely 1.8.5.post1 which is incompatible.\r\n",
      "momepy 0.7.0 requires tqdm>=4.63.0, but you have tqdm 4.62.0 which is incompatible.\r\n",
      "osmnx 1.9.1 requires shapely>=2.0, but you have shapely 1.8.5.post1 which is incompatible.\r\n",
      "plotnine 0.13.2 requires numpy>=1.23.0, but you have numpy 1.22.0 which is incompatible.\r\n",
      "plotnine 0.13.2 requires pandas<3.0.0,>=2.1.0, but you have pandas 1.3.5 which is incompatible.\r\n",
      "pyldavis 3.4.1 requires numpy>=1.24.2, but you have numpy 1.22.0 which is incompatible.\r\n",
      "pyldavis 3.4.1 requires pandas>=2.0.0, but you have pandas 1.3.5 which is incompatible.\r\n",
      "pylibraft 23.8.0 requires cuda-python<12.0a0,>=11.7.1, but you have cuda-python 12.4.0 which is incompatible.\r\n",
      "pywavelets 1.5.0 requires numpy<2.0,>=1.22.4, but you have numpy 1.22.0 which is incompatible.\r\n",
      "raft-dask 23.8.0 requires dask==2023.7.1, but you have dask 2024.3.1 which is incompatible.\r\n",
      "rmm 23.8.0 requires cuda-python<12.0a0,>=11.7.1, but you have cuda-python 12.4.0 which is incompatible.\r\n",
      "spaghetti 1.7.5.post1 requires pandas!=1.5.0,>=1.4, but you have pandas 1.3.5 which is incompatible.\r\n",
      "spglm 1.1.0 requires numpy>=1.23, but you have numpy 1.22.0 which is incompatible.\r\n",
      "spopt 0.6.0 requires pandas!=1.5.0,>=1.4, but you have pandas 1.3.5 which is incompatible.\r\n",
      "spopt 0.6.0 requires shapely>=2.0.1, but you have shapely 1.8.5.post1 which is incompatible.\r\n",
      "spopt 0.6.0 requires tqdm>=4.63.0, but you have tqdm 4.62.0 which is incompatible.\r\n",
      "spreg 1.4.2 requires numpy>=1.23, but you have numpy 1.22.0 which is incompatible.\r\n",
      "tensorflow 2.15.0 requires keras<2.16,>=2.15.0, but you have keras 3.0.5 which is incompatible.\r\n",
      "tensorflow 2.15.0 requires numpy<2.0.0,>=1.23.5, but you have numpy 1.22.0 which is incompatible.\r\n",
      "tensorstore 0.1.56 requires ml-dtypes>=0.3.1, but you have ml-dtypes 0.2.0 which is incompatible.\r\n",
      "woodwork 0.29.0 requires numpy>=1.25.0, but you have numpy 1.22.0 which is incompatible.\r\n",
      "woodwork 0.29.0 requires pandas>=1.4.3, but you have pandas 1.3.5 which is incompatible.\r\n",
      "xarray 2024.2.0 requires numpy>=1.23, but you have numpy 1.22.0 which is incompatible.\r\n",
      "xarray 2024.2.0 requires packaging>=22, but you have packaging 21.3 which is incompatible.\r\n",
      "xarray 2024.2.0 requires pandas>=1.5, but you have pandas 1.3.5 which is incompatible.\u001b[0m\u001b[31m\r\n",
      "\u001b[0mSuccessfully installed numpy-1.22.0 pandas-1.3.5 ptflops-0.7.2.2 rna-fm-0.2.1 tqdm-4.62.0\r\n",
      "Requirement already satisfied: numpy in /opt/conda/lib/python3.10/site-packages (1.22.0)\r\n",
      "Collecting numpy\r\n",
      "  Downloading numpy-1.26.4-cp310-cp310-manylinux_2_17_x86_64.manylinux2014_x86_64.whl.metadata (61 kB)\r\n",
      "\u001b[2K     \u001b[90m━━━━━━━━━━━━━━━━━━━━━━━━━━━━━━━━━━━━━━━━\u001b[0m \u001b[32m61.0/61.0 kB\u001b[0m \u001b[31m3.3 MB/s\u001b[0m eta \u001b[36m0:00:00\u001b[0m\r\n",
      "\u001b[?25hDownloading numpy-1.26.4-cp310-cp310-manylinux_2_17_x86_64.manylinux2014_x86_64.whl (18.2 MB)\r\n",
      "\u001b[2K   \u001b[90m━━━━━━━━━━━━━━━━━━━━━━━━━━━━━━━━━━━━━━━━\u001b[0m \u001b[32m18.2/18.2 MB\u001b[0m \u001b[31m71.8 MB/s\u001b[0m eta \u001b[36m0:00:00\u001b[0m\r\n",
      "\u001b[?25hInstalling collected packages: numpy\r\n",
      "  Attempting uninstall: numpy\r\n",
      "    Found existing installation: numpy 1.22.0\r\n",
      "    Uninstalling numpy-1.22.0:\r\n",
      "      Successfully uninstalled numpy-1.22.0\r\n",
      "\u001b[31mERROR: pip's dependency resolver does not currently take into account all the packages that are installed. This behaviour is the source of the following dependency conflicts.\r\n",
      "cudf 23.8.0 requires cubinlinker, which is not installed.\r\n",
      "cudf 23.8.0 requires cupy-cuda11x>=12.0.0, which is not installed.\r\n",
      "cudf 23.8.0 requires ptxcompiler, which is not installed.\r\n",
      "cuml 23.8.0 requires cupy-cuda11x>=12.0.0, which is not installed.\r\n",
      "dask-cudf 23.8.0 requires cupy-cuda11x>=12.0.0, which is not installed.\r\n",
      "keras-nlp 0.8.2 requires keras-core, which is not installed.\r\n",
      "tensorflow-decision-forests 1.8.1 requires wurlitzer, which is not installed.\r\n",
      "apache-beam 2.46.0 requires dill<0.3.2,>=0.3.1.1, but you have dill 0.3.8 which is incompatible.\r\n",
      "apache-beam 2.46.0 requires numpy<1.25.0,>=1.14.3, but you have numpy 1.26.4 which is incompatible.\r\n",
      "apache-beam 2.46.0 requires pyarrow<10.0.0,>=3.0.0, but you have pyarrow 11.0.0 which is incompatible.\r\n",
      "arviz 0.17.1 requires pandas>=1.4.0, but you have pandas 1.3.5 which is incompatible.\r\n",
      "cudf 23.8.0 requires cuda-python<12.0a0,>=11.7.1, but you have cuda-python 12.4.0 which is incompatible.\r\n",
      "cudf 23.8.0 requires protobuf<5,>=4.21, but you have protobuf 3.20.3 which is incompatible.\r\n",
      "cuml 23.8.0 requires dask==2023.7.1, but you have dask 2024.3.1 which is incompatible.\r\n",
      "dask-cuda 23.8.0 requires dask==2023.7.1, but you have dask 2024.3.1 which is incompatible.\r\n",
      "dask-cudf 23.8.0 requires dask==2023.7.1, but you have dask 2024.3.1 which is incompatible.\r\n",
      "datasets 2.1.0 requires tqdm>=4.62.1, but you have tqdm 4.62.0 which is incompatible.\r\n",
      "featuretools 1.30.0 requires pandas>=2.0.0, but you have pandas 1.3.5 which is incompatible.\r\n",
      "fitter 1.7.0 requires tqdm<5.0.0,>=4.65.1, but you have tqdm 4.62.0 which is incompatible.\r\n",
      "libpysal 4.9.2 requires packaging>=22, but you have packaging 21.3 which is incompatible.\r\n",
      "libpysal 4.9.2 requires pandas>=1.4, but you have pandas 1.3.5 which is incompatible.\r\n",
      "libpysal 4.9.2 requires shapely>=2.0.1, but you have shapely 1.8.5.post1 which is incompatible.\r\n",
      "mapclassify 2.6.1 requires pandas!=1.5.0,>=1.4, but you have pandas 1.3.5 which is incompatible.\r\n",
      "mizani 0.11.0 requires pandas>=2.1.0, but you have pandas 1.3.5 which is incompatible.\r\n",
      "momepy 0.7.0 requires shapely>=2, but you have shapely 1.8.5.post1 which is incompatible.\r\n",
      "momepy 0.7.0 requires tqdm>=4.63.0, but you have tqdm 4.62.0 which is incompatible.\r\n",
      "osmnx 1.9.1 requires shapely>=2.0, but you have shapely 1.8.5.post1 which is incompatible.\r\n",
      "plotnine 0.13.2 requires pandas<3.0.0,>=2.1.0, but you have pandas 1.3.5 which is incompatible.\r\n",
      "pyldavis 3.4.1 requires pandas>=2.0.0, but you have pandas 1.3.5 which is incompatible.\r\n",
      "pylibraft 23.8.0 requires cuda-python<12.0a0,>=11.7.1, but you have cuda-python 12.4.0 which is incompatible.\r\n",
      "raft-dask 23.8.0 requires dask==2023.7.1, but you have dask 2024.3.1 which is incompatible.\r\n",
      "rmm 23.8.0 requires cuda-python<12.0a0,>=11.7.1, but you have cuda-python 12.4.0 which is incompatible.\r\n",
      "rna-fm 0.2.1 requires numpy==1.22.0, but you have numpy 1.26.4 which is incompatible.\r\n",
      "spaghetti 1.7.5.post1 requires pandas!=1.5.0,>=1.4, but you have pandas 1.3.5 which is incompatible.\r\n",
      "spopt 0.6.0 requires pandas!=1.5.0,>=1.4, but you have pandas 1.3.5 which is incompatible.\r\n",
      "spopt 0.6.0 requires shapely>=2.0.1, but you have shapely 1.8.5.post1 which is incompatible.\r\n",
      "spopt 0.6.0 requires tqdm>=4.63.0, but you have tqdm 4.62.0 which is incompatible.\r\n",
      "tensorflow 2.15.0 requires keras<2.16,>=2.15.0, but you have keras 3.0.5 which is incompatible.\r\n",
      "tensorstore 0.1.56 requires ml-dtypes>=0.3.1, but you have ml-dtypes 0.2.0 which is incompatible.\r\n",
      "woodwork 0.29.0 requires pandas>=1.4.3, but you have pandas 1.3.5 which is incompatible.\r\n",
      "xarray 2024.2.0 requires packaging>=22, but you have packaging 21.3 which is incompatible.\r\n",
      "xarray 2024.2.0 requires pandas>=1.5, but you have pandas 1.3.5 which is incompatible.\r\n",
      "ydata-profiling 4.6.4 requires numpy<1.26,>=1.16.0, but you have numpy 1.26.4 which is incompatible.\u001b[0m\u001b[31m\r\n",
      "\u001b[0mSuccessfully installed numpy-1.26.4\r\n",
      "Collecting biopython\r\n",
      "  Downloading biopython-1.83-cp310-cp310-manylinux_2_17_x86_64.manylinux2014_x86_64.whl.metadata (13 kB)\r\n",
      "Requirement already satisfied: numpy in /opt/conda/lib/python3.10/site-packages (from biopython) (1.26.4)\r\n",
      "Downloading biopython-1.83-cp310-cp310-manylinux_2_17_x86_64.manylinux2014_x86_64.whl (3.1 MB)\r\n",
      "\u001b[2K   \u001b[90m━━━━━━━━━━━━━━━━━━━━━━━━━━━━━━━━━━━━━━━━\u001b[0m \u001b[32m3.1/3.1 MB\u001b[0m \u001b[31m65.3 MB/s\u001b[0m eta \u001b[36m0:00:00\u001b[0m\r\n",
      "\u001b[?25hInstalling collected packages: biopython\r\n",
      "Successfully installed biopython-1.83\r\n"
     ]
    }
   ],
   "source": [
    "!pip install rna-fm\n",
    "!pip install -U numpy\n",
    "!pip install biopython"
   ]
  },
  {
   "cell_type": "markdown",
   "id": "775d632b",
   "metadata": {
    "id": "p9ETAJQcNQoZ",
    "papermill": {
     "duration": 0.01965,
     "end_time": "2024-03-23T07:05:11.225493",
     "exception": false,
     "start_time": "2024-03-23T07:05:11.205843",
     "status": "completed"
    },
    "tags": []
   },
   "source": [
    "If pip install fails to install the required packages, we can also uncomment the following cell to install it from source."
   ]
  },
  {
   "cell_type": "code",
   "execution_count": 2,
   "id": "ff6a3c10",
   "metadata": {
    "execution": {
     "iopub.execute_input": "2024-03-23T07:05:11.265835Z",
     "iopub.status.busy": "2024-03-23T07:05:11.265513Z",
     "iopub.status.idle": "2024-03-23T07:05:11.269747Z",
     "shell.execute_reply": "2024-03-23T07:05:11.268952Z"
    },
    "id": "rdqDw0G4B7HZ",
    "papermill": {
     "duration": 0.026665,
     "end_time": "2024-03-23T07:05:11.271627",
     "exception": false,
     "start_time": "2024-03-23T07:05:11.244962",
     "status": "completed"
    },
    "tags": []
   },
   "outputs": [],
   "source": [
    "# !git clone https://github.com/ml4bio/RNA-FM.git\n",
    "\n",
    "# !pwd\n",
    "# !ls\n",
    "# %cd /content/RNA-FM\n",
    "# !python setup.py install"
   ]
  },
  {
   "cell_type": "code",
   "execution_count": 3,
   "id": "0fe22386",
   "metadata": {
    "execution": {
     "iopub.execute_input": "2024-03-23T07:05:11.311573Z",
     "iopub.status.busy": "2024-03-23T07:05:11.311313Z",
     "iopub.status.idle": "2024-03-23T07:05:19.695732Z",
     "shell.execute_reply": "2024-03-23T07:05:19.694737Z"
    },
    "executionInfo": {
     "elapsed": 454,
     "status": "ok",
     "timestamp": 1711122062448,
     "user": {
      "displayName": "Jiuming Wang",
      "userId": "02779250306311152610"
     },
     "user_tz": -480
    },
    "id": "umxEPuSrXp4G",
    "papermill": {
     "duration": 8.407069,
     "end_time": "2024-03-23T07:05:19.698172",
     "exception": false,
     "start_time": "2024-03-23T07:05:11.291103",
     "status": "completed"
    },
    "tags": []
   },
   "outputs": [],
   "source": [
    "import fm  # for development with RNA-FM\n",
    "\n",
    "from pathlib import Path\n",
    "import glob\n",
    "\n",
    "import torch\n",
    "import torch.nn as nn\n",
    "from torch.utils.data import Dataset, DataLoader\n",
    "\n",
    "import numpy as np\n",
    "import math\n",
    "\n",
    "from Bio import SeqIO  # for file parsing\n",
    "\n",
    "from sklearn.manifold import TSNE  # for dimension reduction\n",
    "\n",
    "from sklearn.model_selection import train_test_split  # for splitting train/val/test\n",
    "\n",
    "from tqdm.notebook import tqdm  # for showing progress\n",
    "\n",
    "import matplotlib.pyplot as plt"
   ]
  },
  {
   "cell_type": "code",
   "execution_count": 4,
   "id": "8afb50db",
   "metadata": {
    "execution": {
     "iopub.execute_input": "2024-03-23T07:05:19.738903Z",
     "iopub.status.busy": "2024-03-23T07:05:19.738445Z",
     "iopub.status.idle": "2024-03-23T07:05:19.784113Z",
     "shell.execute_reply": "2024-03-23T07:05:19.783161Z"
    },
    "executionInfo": {
     "elapsed": 545,
     "status": "ok",
     "timestamp": 1711122065005,
     "user": {
      "displayName": "Jiuming Wang",
      "userId": "02779250306311152610"
     },
     "user_tz": -480
    },
    "id": "khGydI8MlM-c",
    "outputId": "d9a16848-1333-4124-b4c4-ad05c612d0bf",
    "papermill": {
     "duration": 0.067954,
     "end_time": "2024-03-23T07:05:19.786119",
     "exception": false,
     "start_time": "2024-03-23T07:05:19.718165",
     "status": "completed"
    },
    "tags": []
   },
   "outputs": [
    {
     "name": "stdout",
     "output_type": "stream",
     "text": [
      "using cuda device\n"
     ]
    }
   ],
   "source": [
    "if torch.cuda.is_available():\n",
    "    device = 'cuda'\n",
    "else:\n",
    "    device = 'cpu'\n",
    "\n",
    "print(f'using {device} device')\n",
    "\n",
    "data_dir = '../input/rnafm-tutorial/'"
   ]
  },
  {
   "cell_type": "markdown",
   "id": "e0ee37a2",
   "metadata": {
    "id": "n4f28w4cBMUd",
    "papermill": {
     "duration": 0.01981,
     "end_time": "2024-03-23T07:05:19.826775",
     "exception": false,
     "start_time": "2024-03-23T07:05:19.806965",
     "status": "completed"
    },
    "tags": []
   },
   "source": [
    "## Task 1. RNA Family Clustering"
   ]
  },
  {
   "cell_type": "markdown",
   "id": "7e4398b4",
   "metadata": {
    "id": "wSa3VO1uBVoT",
    "papermill": {
     "duration": 0.021396,
     "end_time": "2024-03-23T07:05:19.868930",
     "exception": false,
     "start_time": "2024-03-23T07:05:19.847534",
     "status": "completed"
    },
    "tags": []
   },
   "source": [
    "### Load data"
   ]
  },
  {
   "cell_type": "code",
   "execution_count": 5,
   "id": "0de806d2",
   "metadata": {
    "execution": {
     "iopub.execute_input": "2024-03-23T07:05:19.914259Z",
     "iopub.status.busy": "2024-03-23T07:05:19.913513Z",
     "iopub.status.idle": "2024-03-23T07:05:19.931148Z",
     "shell.execute_reply": "2024-03-23T07:05:19.930242Z"
    },
    "executionInfo": {
     "elapsed": 398,
     "status": "ok",
     "timestamp": 1711091454252,
     "user": {
      "displayName": "Jiuming Wang",
      "userId": "02779250306311152610"
     },
     "user_tz": -480
    },
    "id": "ZxkoDEJYUS-z",
    "outputId": "1d4de78d-f33f-4050-a901-abd39401e154",
    "papermill": {
     "duration": 0.042111,
     "end_time": "2024-03-23T07:05:19.932982",
     "exception": false,
     "start_time": "2024-03-23T07:05:19.890871",
     "status": "completed"
    },
    "tags": []
   },
   "outputs": [
    {
     "name": "stdout",
     "output_type": "stream",
     "text": [
      "3\n"
     ]
    }
   ],
   "source": [
    "# load fasta data\n",
    "fasta_paths = glob.glob(f'{data_dir}/RF*.fasta')\n",
    "fasta_paths.sort()\n",
    "print(len(fasta_paths))"
   ]
  },
  {
   "cell_type": "code",
   "execution_count": 6,
   "id": "427da794",
   "metadata": {
    "execution": {
     "iopub.execute_input": "2024-03-23T07:05:19.974251Z",
     "iopub.status.busy": "2024-03-23T07:05:19.973529Z",
     "iopub.status.idle": "2024-03-23T07:05:20.040260Z",
     "shell.execute_reply": "2024-03-23T07:05:20.039333Z"
    },
    "executionInfo": {
     "elapsed": 308,
     "status": "ok",
     "timestamp": 1711091456489,
     "user": {
      "displayName": "Jiuming Wang",
      "userId": "02779250306311152610"
     },
     "user_tz": -480
    },
    "id": "T9EHFsvuUoMH",
    "outputId": "66266e1a-711a-4fba-d366-91f317532d50",
    "papermill": {
     "duration": 0.089048,
     "end_time": "2024-03-23T07:05:20.042254",
     "exception": false,
     "start_time": "2024-03-23T07:05:19.953206",
     "status": "completed"
    },
    "tags": []
   },
   "outputs": [
    {
     "name": "stdout",
     "output_type": "stream",
     "text": [
      "RF00001\n",
      "712 712\n",
      "RF00005\n",
      "1666 1666\n",
      "RF00010\n",
      "2124 2124\n"
     ]
    }
   ],
   "source": [
    "rfam_list = []  # list of RNA families\n",
    "\n",
    "seqs = []  # list of two-element tuples [(sequence ID, sequence),]\n",
    "labels = []  # list of labels correspond to each entry in the seqs list, the labels are the RNA families\n",
    "\n",
    "for fasta_path in fasta_paths:\n",
    "    rfam = Path(fasta_path).stem\n",
    "    rfam_list.append(rfam)\n",
    "    print(rfam)\n",
    "\n",
    "    records = list(SeqIO.parse(fasta_path, 'fasta'))\n",
    "\n",
    "    fasta_seqs = [str(record.seq) for record in records]\n",
    "    fasta_seq_names = [record.id for record in records]\n",
    "\n",
    "    seqs += [(seq_name, seq) for seq_name, seq in zip(fasta_seq_names, fasta_seqs)]\n",
    "\n",
    "    labels += [rfam] * len(fasta_seq_names)\n",
    "\n",
    "    print(len(seqs), len(labels))"
   ]
  },
  {
   "cell_type": "code",
   "execution_count": 7,
   "id": "d2df2f67",
   "metadata": {
    "execution": {
     "iopub.execute_input": "2024-03-23T07:05:20.083105Z",
     "iopub.status.busy": "2024-03-23T07:05:20.082830Z",
     "iopub.status.idle": "2024-03-23T07:05:20.086948Z",
     "shell.execute_reply": "2024-03-23T07:05:20.086192Z"
    },
    "executionInfo": {
     "elapsed": 4,
     "status": "ok",
     "timestamp": 1711091470168,
     "user": {
      "displayName": "Jiuming Wang",
      "userId": "02779250306311152610"
     },
     "user_tz": -480
    },
    "id": "4oN1RMAuZvwA",
    "outputId": "a0e471db-f544-4fd9-fe32-22d6e0330084",
    "papermill": {
     "duration": 0.026734,
     "end_time": "2024-03-23T07:05:20.089143",
     "exception": false,
     "start_time": "2024-03-23T07:05:20.062409",
     "status": "completed"
    },
    "tags": []
   },
   "outputs": [
    {
     "name": "stdout",
     "output_type": "stream",
     "text": [
      "[('X01556.1/3-118', 'CUUGACGAUCAUAGAGCGUUGGAACCACCUGAUCCCUUCCCGAACUCAGAAGUGAAACGACGCAUCGCCGAUGGUAGUGUGGGGUUUCCCCAUGUGAGAGUAGGUCAUCGUCAAGC'), ('X55260.1/3-119', 'UACGGCGGCCAUAGCGAAGGGGAAAUACCCGGUCCCAUCCCGAACCCGGAAGUCAAGCCCUUCAGCGCCGAUGGUACUGCAACCGAGAGGCUGUGGGAGAGUAGGACGCCGCCGGAC')]\n"
     ]
    }
   ],
   "source": [
    "# examine the data\n",
    "print(seqs[:2])"
   ]
  },
  {
   "cell_type": "markdown",
   "id": "1932db53",
   "metadata": {
    "id": "YELqpHoxBX_0",
    "papermill": {
     "duration": 0.019392,
     "end_time": "2024-03-23T07:05:20.128065",
     "exception": false,
     "start_time": "2024-03-23T07:05:20.108673",
     "status": "completed"
    },
    "tags": []
   },
   "source": [
    "### Load the pretrained model"
   ]
  },
  {
   "cell_type": "code",
   "execution_count": 8,
   "id": "9df1603a",
   "metadata": {
    "execution": {
     "iopub.execute_input": "2024-03-23T07:05:20.168556Z",
     "iopub.status.busy": "2024-03-23T07:05:20.168309Z",
     "iopub.status.idle": "2024-03-23T07:05:20.172299Z",
     "shell.execute_reply": "2024-03-23T07:05:20.171124Z"
    },
    "executionInfo": {
     "elapsed": 26893,
     "status": "ok",
     "timestamp": 1711095721366,
     "user": {
      "displayName": "Jiuming Wang",
      "userId": "02779250306311152610"
     },
     "user_tz": -480
    },
    "id": "bR9pTFeXPt8_",
    "outputId": "76d3a843-8a2b-426a-bb6a-17d38b5db771",
    "papermill": {
     "duration": 0.026251,
     "end_time": "2024-03-23T07:05:20.174251",
     "exception": false,
     "start_time": "2024-03-23T07:05:20.148000",
     "status": "completed"
    },
    "tags": []
   },
   "outputs": [],
   "source": [
    "# !gdown 1zflX5hHTxuwqcZm6A1npq7ubP8m7LdNX"
   ]
  },
  {
   "cell_type": "code",
   "execution_count": 9,
   "id": "bc53284d",
   "metadata": {
    "execution": {
     "iopub.execute_input": "2024-03-23T07:05:20.215024Z",
     "iopub.status.busy": "2024-03-23T07:05:20.214781Z",
     "iopub.status.idle": "2024-03-23T07:05:31.456995Z",
     "shell.execute_reply": "2024-03-23T07:05:31.456131Z"
    },
    "executionInfo": {
     "elapsed": 6345,
     "status": "ok",
     "timestamp": 1711104421072,
     "user": {
      "displayName": "Jiuming Wang",
      "userId": "02779250306311152610"
     },
     "user_tz": -480
    },
    "id": "pjh3_SmKWu6q",
    "outputId": "f7d087a1-c802-49df-9156-7069099a9c02",
    "papermill": {
     "duration": 11.26498,
     "end_time": "2024-03-23T07:05:31.459049",
     "exception": false,
     "start_time": "2024-03-23T07:05:20.194069",
     "status": "completed"
    },
    "tags": []
   },
   "outputs": [
    {
     "data": {
      "text/plain": [
       "BioBertModel(\n",
       "  (embed_tokens): Embedding(25, 640, padding_idx=1)\n",
       "  (layers): ModuleList(\n",
       "    (0-11): 12 x TransformerLayer(\n",
       "      (self_attn): MultiheadAttention(\n",
       "        (k_proj): Linear(in_features=640, out_features=640, bias=True)\n",
       "        (v_proj): Linear(in_features=640, out_features=640, bias=True)\n",
       "        (q_proj): Linear(in_features=640, out_features=640, bias=True)\n",
       "        (out_proj): Linear(in_features=640, out_features=640, bias=True)\n",
       "      )\n",
       "      (self_attn_layer_norm): LayerNorm((640,), eps=1e-05, elementwise_affine=True)\n",
       "      (fc1): Linear(in_features=640, out_features=5120, bias=True)\n",
       "      (fc2): Linear(in_features=5120, out_features=640, bias=True)\n",
       "      (final_layer_norm): LayerNorm((640,), eps=1e-05, elementwise_affine=True)\n",
       "    )\n",
       "  )\n",
       "  (contact_head): ContactPredictionHead(\n",
       "    (regression): Linear(in_features=240, out_features=1, bias=True)\n",
       "    (activation): Sigmoid()\n",
       "  )\n",
       "  (embed_positions): LearnedPositionalEmbedding(1026, 640, padding_idx=1)\n",
       "  (emb_layer_norm_before): LayerNorm((640,), eps=1e-05, elementwise_affine=True)\n",
       "  (emb_layer_norm_after): LayerNorm((640,), eps=1e-05, elementwise_affine=True)\n",
       "  (lm_head): RobertaLMHead(\n",
       "    (dense): Linear(in_features=640, out_features=640, bias=True)\n",
       "    (layer_norm): LayerNorm((640,), eps=1e-05, elementwise_affine=True)\n",
       "  )\n",
       ")"
      ]
     },
     "execution_count": 9,
     "metadata": {},
     "output_type": "execute_result"
    }
   ],
   "source": [
    "# Load RNA-FM model\n",
    "fm_model, alphabet = fm.pretrained.rna_fm_t12(Path(data_dir, 'RNA-FM_pretrained.pth'))\n",
    "batch_converter = alphabet.get_batch_converter()\n",
    "\n",
    "fm_model.to(device)  # use GPU if available\n",
    "\n",
    "fm_model.eval()  # disables dropout for deterministic results"
   ]
  },
  {
   "cell_type": "markdown",
   "id": "d081659e",
   "metadata": {
    "id": "8xlkZNMFBdBc",
    "papermill": {
     "duration": 0.020088,
     "end_time": "2024-03-23T07:05:31.505629",
     "exception": false,
     "start_time": "2024-03-23T07:05:31.485541",
     "status": "completed"
    },
    "tags": []
   },
   "source": [
    "### Retrieve RNA-FM embeddings"
   ]
  },
  {
   "cell_type": "code",
   "execution_count": 10,
   "id": "e883a438",
   "metadata": {
    "execution": {
     "iopub.execute_input": "2024-03-23T07:05:31.546515Z",
     "iopub.status.busy": "2024-03-23T07:05:31.546187Z",
     "iopub.status.idle": "2024-03-23T07:05:50.109815Z",
     "shell.execute_reply": "2024-03-23T07:05:50.108731Z"
    },
    "executionInfo": {
     "elapsed": 9396,
     "status": "ok",
     "timestamp": 1711091605265,
     "user": {
      "displayName": "Jiuming Wang",
      "userId": "02779250306311152610"
     },
     "user_tz": -480
    },
    "id": "YHCET12fdB17",
    "outputId": "37988d49-5217-4cb1-df3f-669123569ae2",
    "papermill": {
     "duration": 18.588466,
     "end_time": "2024-03-23T07:05:50.113870",
     "exception": false,
     "start_time": "2024-03-23T07:05:31.525404",
     "status": "completed"
    },
    "tags": []
   },
   "outputs": [
    {
     "data": {
      "application/vnd.jupyter.widget-view+json": {
       "model_id": "e7e0a5142b064321ae152e3b392595e3",
       "version_major": 2,
       "version_minor": 0
      },
      "text/plain": [
       "  0%|          | 0/107 [00:00<?, ?it/s]"
      ]
     },
     "metadata": {},
     "output_type": "display_data"
    },
    {
     "name": "stdout",
     "output_type": "stream",
     "text": [
      "(2124, 1024, 640)\n"
     ]
    }
   ],
   "source": [
    "chunk_size = 20\n",
    "\n",
    "# pre-allocate the space to save memory\n",
    "token_embeddings = np.zeros((len(labels), 1024, 640))\n",
    "\n",
    "# divide all the sequences into chunks for processing due to the GPU memory limit\n",
    "for i in tqdm(range(0, len(seqs), chunk_size)):\n",
    "    data = seqs[i:i+chunk_size]\n",
    "\n",
    "    batch_labels, batch_strs, batch_tokens = batch_converter(data)\n",
    "\n",
    "    # use GPU\n",
    "    with torch.no_grad():\n",
    "        results = fm_model(batch_tokens.to(device), repr_layers=[12])\n",
    "\n",
    "    emb = results['representations'][12].cpu().numpy()\n",
    "\n",
    "    token_embeddings[i:i+chunk_size, :emb.shape[1], :] = emb\n",
    "\n",
    "\n",
    "print(token_embeddings.shape)"
   ]
  },
  {
   "cell_type": "markdown",
   "id": "44479821",
   "metadata": {
    "id": "brIEr7RGBiQ1",
    "papermill": {
     "duration": 0.020071,
     "end_time": "2024-03-23T07:05:50.157774",
     "exception": false,
     "start_time": "2024-03-23T07:05:50.137703",
     "status": "completed"
    },
    "tags": []
   },
   "source": [
    "### Dimension reduction"
   ]
  },
  {
   "cell_type": "code",
   "execution_count": 11,
   "id": "5c2c4fab",
   "metadata": {
    "execution": {
     "iopub.execute_input": "2024-03-23T07:05:50.242768Z",
     "iopub.status.busy": "2024-03-23T07:05:50.241928Z",
     "iopub.status.idle": "2024-03-23T07:05:53.898343Z",
     "shell.execute_reply": "2024-03-23T07:05:53.897308Z"
    },
    "executionInfo": {
     "elapsed": 413,
     "status": "ok",
     "timestamp": 1711091607521,
     "user": {
      "displayName": "Jiuming Wang",
      "userId": "02779250306311152610"
     },
     "user_tz": -480
    },
    "id": "eFjCwdlHeNpq",
    "outputId": "7083fd9f-22dc-42e2-9f79-9688d8112d7b",
    "papermill": {
     "duration": 3.722044,
     "end_time": "2024-03-23T07:05:53.900349",
     "exception": false,
     "start_time": "2024-03-23T07:05:50.178305",
     "status": "completed"
    },
    "tags": []
   },
   "outputs": [
    {
     "name": "stdout",
     "output_type": "stream",
     "text": [
      "(2124, 640)\n"
     ]
    }
   ],
   "source": [
    "token_embeddings = np.mean(token_embeddings, axis=1)\n",
    "\n",
    "print(token_embeddings.shape)"
   ]
  },
  {
   "cell_type": "code",
   "execution_count": 12,
   "id": "eb57ce04",
   "metadata": {
    "execution": {
     "iopub.execute_input": "2024-03-23T07:05:53.942774Z",
     "iopub.status.busy": "2024-03-23T07:05:53.942279Z",
     "iopub.status.idle": "2024-03-23T07:06:02.635187Z",
     "shell.execute_reply": "2024-03-23T07:06:02.633891Z"
    },
    "id": "VgBoYvYSteYX",
    "papermill": {
     "duration": 8.716425,
     "end_time": "2024-03-23T07:06:02.637427",
     "exception": false,
     "start_time": "2024-03-23T07:05:53.921002",
     "status": "completed"
    },
    "tags": []
   },
   "outputs": [
    {
     "name": "stderr",
     "output_type": "stream",
     "text": [
      "Exception ignored on calling ctypes callback function: <function ThreadpoolController._find_libraries_with_dl_iterate_phdr.<locals>.match_library_callback at 0x7b29ec999cf0>\n",
      "Traceback (most recent call last):\n",
      "  File \"/opt/conda/lib/python3.10/site-packages/threadpoolctl.py\", line 847, in match_library_callback\n",
      "    self._make_controller_from_path(filepath)\n",
      "  File \"/opt/conda/lib/python3.10/site-packages/threadpoolctl.py\", line 984, in _make_controller_from_path\n",
      "    lib_controller = controller_class(filepath=filepath, prefix=prefix)\n",
      "  File \"/opt/conda/lib/python3.10/site-packages/threadpoolctl.py\", line 111, in __init__\n",
      "    self.dynlib = ctypes.CDLL(filepath, mode=_RTLD_NOLOAD)\n",
      "  File \"/opt/conda/lib/python3.10/ctypes/__init__.py\", line 374, in __init__\n",
      "    self._handle = _dlopen(self._name, mode)\n",
      "OSError: dlopen() error\n"
     ]
    },
    {
     "name": "stdout",
     "output_type": "stream",
     "text": [
      "(2124, 2)\n"
     ]
    }
   ],
   "source": [
    "# t-SNE\n",
    "tsne = TSNE(n_components=2, random_state=42)  # n_components is the dimension of the reduced data\n",
    "\n",
    "embeddings = tsne.fit_transform(token_embeddings)\n",
    "\n",
    "print(embeddings.shape)"
   ]
  },
  {
   "cell_type": "markdown",
   "id": "105548d5",
   "metadata": {
    "id": "kOSrOTj3Bmko",
    "papermill": {
     "duration": 0.02045,
     "end_time": "2024-03-23T07:06:02.678936",
     "exception": false,
     "start_time": "2024-03-23T07:06:02.658486",
     "status": "completed"
    },
    "tags": []
   },
   "source": [
    "### Visualization"
   ]
  },
  {
   "cell_type": "code",
   "execution_count": 13,
   "id": "02970841",
   "metadata": {
    "execution": {
     "iopub.execute_input": "2024-03-23T07:06:02.722384Z",
     "iopub.status.busy": "2024-03-23T07:06:02.722041Z",
     "iopub.status.idle": "2024-03-23T07:06:02.920118Z",
     "shell.execute_reply": "2024-03-23T07:06:02.919064Z"
    },
    "executionInfo": {
     "elapsed": 1235,
     "status": "ok",
     "timestamp": 1711091635807,
     "user": {
      "displayName": "Jiuming Wang",
      "userId": "02779250306311152610"
     },
     "user_tz": -480
    },
    "id": "t-LhpSNZlXny",
    "outputId": "779788e0-7d65-449d-d673-1e981aceeb6b",
    "papermill": {
     "duration": 0.22277,
     "end_time": "2024-03-23T07:06:02.922291",
     "exception": false,
     "start_time": "2024-03-23T07:06:02.699521",
     "status": "completed"
    },
    "tags": []
   },
   "outputs": [
    {
     "name": "stdout",
     "output_type": "stream",
     "text": [
      "['RF00001', 'RF00005', 'RF00010']\n",
      "0\n",
      "1\n",
      "2\n"
     ]
    },
    {
     "data": {
      "image/png": "[encoded data removed]",
      "text/plain": [
       "<Figure size 800x800 with 1 Axes>"
      ]
     },
     "metadata": {},
     "output_type": "display_data"
    }
   ],
   "source": [
    "colors = ['tab:blue', 'tab:orange', 'tab:red']\n",
    "rfam_dict = {'RF00001': '5S_rRNA', 'RF00005': 'tRNA', 'RF00010': 'RNaseP_bact_a'}  # map the Rfam index to name\n",
    "\n",
    "plt.figure(figsize=(8, 8))\n",
    "\n",
    "print(sorted(list(set(labels))))\n",
    "\n",
    "for i, label in enumerate(sorted(list(set(labels)))):\n",
    "    # find the data points corresponding to the current label\n",
    "    print(i)\n",
    "    indices = [j for j, l in enumerate(labels) if l == label]\n",
    "    plt.scatter(embeddings[indices, 0], embeddings[indices, 1], color=colors[i], s=5, alpha=0.5, label=rfam_dict[label])\n",
    "\n",
    "\n",
    "plt.legend()\n",
    "plt.xticks([])\n",
    "plt.yticks([])\n",
    "\n",
    "plt.show()"
   ]
  },
  {
   "cell_type": "markdown",
   "id": "c83bb857",
   "metadata": {
    "id": "fxTn0apOBxn7",
    "papermill": {
     "duration": 0.022442,
     "end_time": "2024-03-23T07:06:02.967067",
     "exception": false,
     "start_time": "2024-03-23T07:06:02.944625",
     "status": "completed"
    },
    "tags": []
   },
   "source": [
    "## Task 2. RNA Type Classification"
   ]
  },
  {
   "cell_type": "markdown",
   "id": "8fd2961c",
   "metadata": {
    "id": "S7QfOf5RCOd8",
    "papermill": {
     "duration": 0.021802,
     "end_time": "2024-03-23T07:06:03.011523",
     "exception": false,
     "start_time": "2024-03-23T07:06:02.989721",
     "status": "completed"
    },
    "tags": []
   },
   "source": [
    "### Load data"
   ]
  },
  {
   "cell_type": "code",
   "execution_count": 14,
   "id": "71d77ca2",
   "metadata": {
    "execution": {
     "iopub.execute_input": "2024-03-23T07:06:03.057387Z",
     "iopub.status.busy": "2024-03-23T07:06:03.056557Z",
     "iopub.status.idle": "2024-03-23T07:06:03.271257Z",
     "shell.execute_reply": "2024-03-23T07:06:03.270177Z"
    },
    "executionInfo": {
     "elapsed": 455,
     "status": "ok",
     "timestamp": 1711122070699,
     "user": {
      "displayName": "Jiuming Wang",
      "userId": "02779250306311152610"
     },
     "user_tz": -480
    },
    "id": "eUmgTnNtlg8z",
    "outputId": "352324ef-81c4-4ce5-bf46-896663f056d8",
    "papermill": {
     "duration": 0.240061,
     "end_time": "2024-03-23T07:06:03.273555",
     "exception": false,
     "start_time": "2024-03-23T07:06:03.033494",
     "status": "completed"
    },
    "tags": []
   },
   "outputs": [
    {
     "name": "stdout",
     "output_type": "stream",
     "text": [
      "1400 1400\n",
      "1400 1400\n",
      "number of classes: 28\n"
     ]
    }
   ],
   "source": [
    "fasta_path = Path(data_dir, 'format_rnacentral_active.100.sample-Max50.fasta')\n",
    "\n",
    "records = list(SeqIO.parse(fasta_path, 'fasta'))\n",
    "\n",
    "fasta_seqs = [str(record.seq) for record in records]\n",
    "fasta_seq_names = [record.id for record in records]\n",
    "\n",
    "print(len(fasta_seqs), len(fasta_seq_names))\n",
    "\n",
    "labels = [record.description.split()[1] for record in records]\n",
    "\n",
    "seqs = [(seq_name, seq) for seq_name, seq in zip(fasta_seq_names, fasta_seqs)]\n",
    "\n",
    "num_class = len(set(labels))\n",
    "\n",
    "print(len(seqs), len(labels))\n",
    "print(f'number of classes: {len(set(labels))}')\n",
    "\n",
    "label_to_num = {'miRNA': 0, 'snRNA': 1, 'other': 2, 'hammerhead_ribozyme': 3,\n",
    "                'telomerase_RNA': 4, 'antisense_RNA': 5, 'precursor_RNA': 6,\n",
    "                'tRNA': 7, 'snoRNA': 8, 'RNase_P_RNA': 9, 'pre_miRNA': 10,\n",
    "                'misc_RNA': 11, 'rRNA': 12, 'siRNA': 13, 'vault_RNA': 14,\n",
    "                'autocatalytically_spliced_intron': 15, 'guide_RNA': 16,\n",
    "                'Y_RNA': 17, 'scRNA': 18, 'sRNA': 19, 'scaRNA': 20,\n",
    "                'RNase_MRP_RNA': 21, 'tmRNA': 22, 'lncRNA': 23, 'ncRNA': 24,\n",
    "                'piRNA': 25, 'ribozyme': 26, 'SRP_RNA': 27}\n",
    "\n",
    "labels = [label_to_num[label] for label in labels]"
   ]
  },
  {
   "cell_type": "markdown",
   "id": "74c953aa",
   "metadata": {
    "id": "Ja-VeY3PDMyr",
    "papermill": {
     "duration": 0.022205,
     "end_time": "2024-03-23T07:06:03.318837",
     "exception": false,
     "start_time": "2024-03-23T07:06:03.296632",
     "status": "completed"
    },
    "tags": []
   },
   "source": [
    "### Retrieve RNA-FM embeddings"
   ]
  },
  {
   "cell_type": "markdown",
   "id": "537cff3e",
   "metadata": {
    "id": "QKq77EHDgEWk",
    "papermill": {
     "duration": 0.021637,
     "end_time": "2024-03-23T07:06:03.362555",
     "exception": false,
     "start_time": "2024-03-23T07:06:03.340918",
     "status": "completed"
    },
    "tags": []
   },
   "source": [
    "You don't need to download it again if you have already done so for the previous task."
   ]
  },
  {
   "cell_type": "code",
   "execution_count": 15,
   "id": "aa6c69e3",
   "metadata": {
    "execution": {
     "iopub.execute_input": "2024-03-23T07:06:03.408338Z",
     "iopub.status.busy": "2024-03-23T07:06:03.408004Z",
     "iopub.status.idle": "2024-03-23T07:06:03.412261Z",
     "shell.execute_reply": "2024-03-23T07:06:03.411404Z"
    },
    "executionInfo": {
     "elapsed": 19919,
     "status": "ok",
     "timestamp": 1711116788525,
     "user": {
      "displayName": "Jiuming Wang",
      "userId": "02779250306311152610"
     },
     "user_tz": -480
    },
    "id": "B8jfdGVsgECP",
    "outputId": "54d10f95-bf21-462d-ecf9-04322d1a71c8",
    "papermill": {
     "duration": 0.029971,
     "end_time": "2024-03-23T07:06:03.414182",
     "exception": false,
     "start_time": "2024-03-23T07:06:03.384211",
     "status": "completed"
    },
    "tags": []
   },
   "outputs": [],
   "source": [
    "# !gdown 1zflX5hHTxuwqcZm6A1npq7ubP8m7LdNX  # for Colab only"
   ]
  },
  {
   "cell_type": "code",
   "execution_count": 16,
   "id": "39ccb022",
   "metadata": {
    "execution": {
     "iopub.execute_input": "2024-03-23T07:06:03.459414Z",
     "iopub.status.busy": "2024-03-23T07:06:03.459162Z",
     "iopub.status.idle": "2024-03-23T07:06:05.437770Z",
     "shell.execute_reply": "2024-03-23T07:06:05.436832Z"
    },
    "executionInfo": {
     "elapsed": 2431,
     "status": "ok",
     "timestamp": 1711122078810,
     "user": {
      "displayName": "Jiuming Wang",
      "userId": "02779250306311152610"
     },
     "user_tz": -480
    },
    "id": "U6gcN7010BUD",
    "outputId": "1dac9979-cc8c-4bfa-91e5-c11f6381a946",
    "papermill": {
     "duration": 2.003691,
     "end_time": "2024-03-23T07:06:05.439807",
     "exception": false,
     "start_time": "2024-03-23T07:06:03.436116",
     "status": "completed"
    },
    "tags": []
   },
   "outputs": [
    {
     "data": {
      "text/plain": [
       "BioBertModel(\n",
       "  (embed_tokens): Embedding(25, 640, padding_idx=1)\n",
       "  (layers): ModuleList(\n",
       "    (0-11): 12 x TransformerLayer(\n",
       "      (self_attn): MultiheadAttention(\n",
       "        (k_proj): Linear(in_features=640, out_features=640, bias=True)\n",
       "        (v_proj): Linear(in_features=640, out_features=640, bias=True)\n",
       "        (q_proj): Linear(in_features=640, out_features=640, bias=True)\n",
       "        (out_proj): Linear(in_features=640, out_features=640, bias=True)\n",
       "      )\n",
       "      (self_attn_layer_norm): LayerNorm((640,), eps=1e-05, elementwise_affine=True)\n",
       "      (fc1): Linear(in_features=640, out_features=5120, bias=True)\n",
       "      (fc2): Linear(in_features=5120, out_features=640, bias=True)\n",
       "      (final_layer_norm): LayerNorm((640,), eps=1e-05, elementwise_affine=True)\n",
       "    )\n",
       "  )\n",
       "  (contact_head): ContactPredictionHead(\n",
       "    (regression): Linear(in_features=240, out_features=1, bias=True)\n",
       "    (activation): Sigmoid()\n",
       "  )\n",
       "  (embed_positions): LearnedPositionalEmbedding(1026, 640, padding_idx=1)\n",
       "  (emb_layer_norm_before): LayerNorm((640,), eps=1e-05, elementwise_affine=True)\n",
       "  (emb_layer_norm_after): LayerNorm((640,), eps=1e-05, elementwise_affine=True)\n",
       "  (lm_head): RobertaLMHead(\n",
       "    (dense): Linear(in_features=640, out_features=640, bias=True)\n",
       "    (layer_norm): LayerNorm((640,), eps=1e-05, elementwise_affine=True)\n",
       "  )\n",
       ")"
      ]
     },
     "execution_count": 16,
     "metadata": {},
     "output_type": "execute_result"
    }
   ],
   "source": [
    "# Load RNA-FM model\n",
    "fm_model, alphabet = fm.pretrained.rna_fm_t12(Path(data_dir, 'RNA-FM_pretrained.pth'))\n",
    "batch_converter = alphabet.get_batch_converter()\n",
    "\n",
    "fm_model.to(device)\n",
    "\n",
    "fm_model.eval()  # disables dropout for deterministic results"
   ]
  },
  {
   "cell_type": "code",
   "execution_count": 17,
   "id": "51e9ab8d",
   "metadata": {
    "execution": {
     "iopub.execute_input": "2024-03-23T07:06:05.486627Z",
     "iopub.status.busy": "2024-03-23T07:06:05.486340Z",
     "iopub.status.idle": "2024-03-23T07:06:39.602557Z",
     "shell.execute_reply": "2024-03-23T07:06:39.601604Z"
    },
    "executionInfo": {
     "elapsed": 50541,
     "status": "ok",
     "timestamp": 1711122131982,
     "user": {
      "displayName": "Jiuming Wang",
      "userId": "02779250306311152610"
     },
     "user_tz": -480
    },
    "id": "QrusK81_BxDd",
    "outputId": "4817a316-2690-4b59-b173-443c09279ebd",
    "papermill": {
     "duration": 34.142179,
     "end_time": "2024-03-23T07:06:39.605052",
     "exception": false,
     "start_time": "2024-03-23T07:06:05.462873",
     "status": "completed"
    },
    "tags": []
   },
   "outputs": [
    {
     "data": {
      "application/vnd.jupyter.widget-view+json": {
       "model_id": "042f1bc5960742c6882b8aa06195878b",
       "version_major": 2,
       "version_minor": 0
      },
      "text/plain": [
       "  0%|          | 0/28 [00:00<?, ?it/s]"
      ]
     },
     "metadata": {},
     "output_type": "display_data"
    },
    {
     "name": "stdout",
     "output_type": "stream",
     "text": [
      "(1400, 1024, 640)\n"
     ]
    }
   ],
   "source": [
    "chunk_size = 50\n",
    "\n",
    "# pre-allocate the space to save memory\n",
    "token_embeddings = np.zeros((len(labels), 1024, 640))\n",
    "\n",
    "# divide all the sequences into chunks for processing due to the GPU memory limit\n",
    "for i in tqdm(range(0, len(seqs), chunk_size)):\n",
    "    data = seqs[i:i+chunk_size]\n",
    "\n",
    "    batch_labels, batch_strs, batch_tokens = batch_converter(data)\n",
    "\n",
    "    # use GPU\n",
    "    with torch.no_grad():\n",
    "        results = fm_model(batch_tokens.to(device), repr_layers=[12])\n",
    "\n",
    "    emb = results[\"representations\"][12].cpu().numpy()\n",
    "\n",
    "    token_embeddings[i:i+chunk_size, :emb.shape[1], :] = emb\n",
    "\n",
    "\n",
    "print(token_embeddings.shape)"
   ]
  },
  {
   "cell_type": "markdown",
   "id": "6a2cc363",
   "metadata": {
    "id": "A2UR4iUSDg52",
    "papermill": {
     "duration": 0.021857,
     "end_time": "2024-03-23T07:06:39.649854",
     "exception": false,
     "start_time": "2024-03-23T07:06:39.627997",
     "status": "completed"
    },
    "tags": []
   },
   "source": [
    "### Construct the dataset and classifier"
   ]
  },
  {
   "cell_type": "code",
   "execution_count": 18,
   "id": "7e83cf53",
   "metadata": {
    "execution": {
     "iopub.execute_input": "2024-03-23T07:06:39.694966Z",
     "iopub.status.busy": "2024-03-23T07:06:39.694672Z",
     "iopub.status.idle": "2024-03-23T07:06:39.700399Z",
     "shell.execute_reply": "2024-03-23T07:06:39.699528Z"
    },
    "executionInfo": {
     "elapsed": 455,
     "status": "ok",
     "timestamp": 1711122135296,
     "user": {
      "displayName": "Jiuming Wang",
      "userId": "02779250306311152610"
     },
     "user_tz": -480
    },
    "id": "hPk5lxOEDjc6",
    "papermill": {
     "duration": 0.030499,
     "end_time": "2024-03-23T07:06:39.702322",
     "exception": false,
     "start_time": "2024-03-23T07:06:39.671823",
     "status": "completed"
    },
    "tags": []
   },
   "outputs": [],
   "source": [
    "class RNATypeDataset(Dataset):\n",
    "    def __init__(self, embeddings, labels):\n",
    "        self.embeddings = embeddings\n",
    "        self.labels = labels\n",
    "\n",
    "    def __len__(self):\n",
    "        return len(self.labels)\n",
    "\n",
    "    def __getitem__(self, idx):\n",
    "        # use the mean of the RNA-FM embedding along the sequence dimension\n",
    "        # so that all the embeddings are converted from (L, 640) -> (640,)\n",
    "        return np.mean(self.embeddings[idx], axis=0), self.labels[idx]"
   ]
  },
  {
   "cell_type": "code",
   "execution_count": 19,
   "id": "0325ff6c",
   "metadata": {
    "execution": {
     "iopub.execute_input": "2024-03-23T07:06:39.748225Z",
     "iopub.status.busy": "2024-03-23T07:06:39.747540Z",
     "iopub.status.idle": "2024-03-23T07:06:39.752496Z",
     "shell.execute_reply": "2024-03-23T07:06:39.751722Z"
    },
    "executionInfo": {
     "elapsed": 2,
     "status": "ok",
     "timestamp": 1711122137261,
     "user": {
      "displayName": "Jiuming Wang",
      "userId": "02779250306311152610"
     },
     "user_tz": -480
    },
    "id": "qkhcOcS2BxGm",
    "papermill": {
     "duration": 0.029593,
     "end_time": "2024-03-23T07:06:39.754288",
     "exception": false,
     "start_time": "2024-03-23T07:06:39.724695",
     "status": "completed"
    },
    "tags": []
   },
   "outputs": [],
   "source": [
    "class RNATypeClassifier(nn.Module):\n",
    "    def __init__(self, num_class):\n",
    "        super().__init__()\n",
    "        self.fc = nn.Linear(640, num_class)\n",
    "\n",
    "    def forward(self, x):\n",
    "        x = self.fc(x)\n",
    "\n",
    "        return x"
   ]
  },
  {
   "cell_type": "code",
   "execution_count": 20,
   "id": "323bf481",
   "metadata": {
    "execution": {
     "iopub.execute_input": "2024-03-23T07:06:39.799691Z",
     "iopub.status.busy": "2024-03-23T07:06:39.799440Z",
     "iopub.status.idle": "2024-03-23T07:06:44.805624Z",
     "shell.execute_reply": "2024-03-23T07:06:44.804719Z"
    },
    "executionInfo": {
     "elapsed": 5713,
     "status": "ok",
     "timestamp": 1711122209237,
     "user": {
      "displayName": "Jiuming Wang",
      "userId": "02779250306311152610"
     },
     "user_tz": -480
    },
    "id": "5i6-EYmwDfI2",
    "outputId": "eba5da81-dcac-45d1-864d-80a46aecc2f5",
    "papermill": {
     "duration": 5.031595,
     "end_time": "2024-03-23T07:06:44.808037",
     "exception": false,
     "start_time": "2024-03-23T07:06:39.776442",
     "status": "completed"
    },
    "tags": []
   },
   "outputs": [
    {
     "name": "stdout",
     "output_type": "stream",
     "text": [
      "(896, 1024, 640) (224, 1024, 640) (280, 1024, 640)\n"
     ]
    }
   ],
   "source": [
    "# each class have 50 samples, use 30 for train, 10 for val, and 10 for test (achieved by using stratify)\n",
    "x_train_val, x_test, y_train_val, y_test = train_test_split(token_embeddings, labels,\n",
    "                                                            test_size=0.2, random_state=42, stratify=labels)\n",
    "\n",
    "x_train, x_val, y_train, y_val = train_test_split(x_train_val, y_train_val,\n",
    "                                                  test_size=0.2, random_state=42, stratify=y_train_val)\n",
    "\n",
    "print(x_train.shape, x_val.shape, x_test.shape)"
   ]
  },
  {
   "cell_type": "code",
   "execution_count": 21,
   "id": "91295eb5",
   "metadata": {
    "execution": {
     "iopub.execute_input": "2024-03-23T07:06:44.854443Z",
     "iopub.status.busy": "2024-03-23T07:06:44.854145Z",
     "iopub.status.idle": "2024-03-23T07:06:44.863135Z",
     "shell.execute_reply": "2024-03-23T07:06:44.861957Z"
    },
    "executionInfo": {
     "elapsed": 613,
     "status": "ok",
     "timestamp": 1711122219859,
     "user": {
      "displayName": "Jiuming Wang",
      "userId": "02779250306311152610"
     },
     "user_tz": -480
    },
    "id": "kvpLRx_cGjtD",
    "outputId": "d38bc565-59bf-489a-ae79-7d5413d26467",
    "papermill": {
     "duration": 0.034335,
     "end_time": "2024-03-23T07:06:44.865212",
     "exception": false,
     "start_time": "2024-03-23T07:06:44.830877",
     "status": "completed"
    },
    "tags": []
   },
   "outputs": [
    {
     "name": "stdout",
     "output_type": "stream",
     "text": [
      "{0: 0.03571428571428571, 1: 0.03571428571428571, 2: 0.03571428571428571, 3: 0.03571428571428571, 4: 0.03571428571428571, 5: 0.03571428571428571, 6: 0.03571428571428571, 7: 0.03571428571428571, 8: 0.03571428571428571, 9: 0.03571428571428571, 10: 0.03571428571428571, 11: 0.03571428571428571, 12: 0.03571428571428571, 13: 0.03571428571428571, 14: 0.03571428571428571, 15: 0.03571428571428571, 16: 0.03571428571428571, 17: 0.03571428571428571, 18: 0.03571428571428571, 19: 0.03571428571428571, 20: 0.03571428571428571, 21: 0.03571428571428571, 22: 0.03571428571428571, 23: 0.03571428571428571, 24: 0.03571428571428571, 25: 0.03571428571428571, 26: 0.03571428571428571, 27: 0.03571428571428571}\n",
      "{0: 0.03571428571428571, 1: 0.03571428571428571, 2: 0.03571428571428571, 3: 0.03571428571428571, 4: 0.03571428571428571, 5: 0.03571428571428571, 6: 0.03571428571428571, 7: 0.03571428571428571, 8: 0.03571428571428571, 9: 0.03571428571428571, 10: 0.03571428571428571, 11: 0.03571428571428571, 12: 0.03571428571428571, 13: 0.03571428571428571, 14: 0.03571428571428571, 15: 0.03571428571428571, 16: 0.03571428571428571, 17: 0.03571428571428571, 18: 0.03571428571428571, 19: 0.03571428571428571, 20: 0.03571428571428571, 21: 0.03571428571428571, 22: 0.03571428571428571, 23: 0.03571428571428571, 24: 0.03571428571428571, 25: 0.03571428571428571, 26: 0.03571428571428571, 27: 0.03571428571428571}\n",
      "{0: 0.03571428571428571, 1: 0.03571428571428571, 2: 0.03571428571428571, 3: 0.03571428571428571, 4: 0.03571428571428571, 5: 0.03571428571428571, 6: 0.03571428571428571, 7: 0.03571428571428571, 8: 0.03571428571428571, 9: 0.03571428571428571, 10: 0.03571428571428571, 11: 0.03571428571428571, 12: 0.03571428571428571, 13: 0.03571428571428571, 14: 0.03571428571428571, 15: 0.03571428571428571, 16: 0.03571428571428571, 17: 0.03571428571428571, 18: 0.03571428571428571, 19: 0.03571428571428571, 20: 0.03571428571428571, 21: 0.03571428571428571, 22: 0.03571428571428571, 23: 0.03571428571428571, 24: 0.03571428571428571, 25: 0.03571428571428571, 26: 0.03571428571428571, 27: 0.03571428571428571}\n"
     ]
    }
   ],
   "source": [
    "def class_distribution(labels):\n",
    "    classes, counts = np.unique(labels, return_counts=True)\n",
    "    distribution = counts / counts.sum()\n",
    "    return dict(zip(classes, distribution))\n",
    "\n",
    "\n",
    "train_dist = class_distribution(y_train)\n",
    "val_dist = class_distribution(y_val)\n",
    "test_dist = class_distribution(y_test)\n",
    "\n",
    "print(train_dist)\n",
    "print(val_dist)\n",
    "print(test_dist)"
   ]
  },
  {
   "cell_type": "code",
   "execution_count": 22,
   "id": "8b767e6c",
   "metadata": {
    "execution": {
     "iopub.execute_input": "2024-03-23T07:06:44.911979Z",
     "iopub.status.busy": "2024-03-23T07:06:44.911392Z",
     "iopub.status.idle": "2024-03-23T07:06:44.915346Z",
     "shell.execute_reply": "2024-03-23T07:06:44.914507Z"
    },
    "executionInfo": {
     "elapsed": 454,
     "status": "ok",
     "timestamp": 1711122277559,
     "user": {
      "displayName": "Jiuming Wang",
      "userId": "02779250306311152610"
     },
     "user_tz": -480
    },
    "id": "T9T2nHK6IWR0",
    "papermill": {
     "duration": 0.028867,
     "end_time": "2024-03-23T07:06:44.917075",
     "exception": false,
     "start_time": "2024-03-23T07:06:44.888208",
     "status": "completed"
    },
    "tags": []
   },
   "outputs": [],
   "source": [
    "# hyper-parameters\n",
    "\n",
    "batch_size = 8\n",
    "lr = 1e-3\n",
    "epochs = 100"
   ]
  },
  {
   "cell_type": "code",
   "execution_count": 23,
   "id": "8247d68b",
   "metadata": {
    "execution": {
     "iopub.execute_input": "2024-03-23T07:06:44.962858Z",
     "iopub.status.busy": "2024-03-23T07:06:44.962294Z",
     "iopub.status.idle": "2024-03-23T07:06:44.967692Z",
     "shell.execute_reply": "2024-03-23T07:06:44.966870Z"
    },
    "executionInfo": {
     "elapsed": 779,
     "status": "ok",
     "timestamp": 1711122803035,
     "user": {
      "displayName": "Jiuming Wang",
      "userId": "02779250306311152610"
     },
     "user_tz": -480
    },
    "id": "aldfo7Y4HJnv",
    "papermill": {
     "duration": 0.030284,
     "end_time": "2024-03-23T07:06:44.969492",
     "exception": false,
     "start_time": "2024-03-23T07:06:44.939208",
     "status": "completed"
    },
    "tags": []
   },
   "outputs": [],
   "source": [
    "train_dataset = RNATypeDataset(x_train, y_train)\n",
    "val_dataset = RNATypeDataset(x_val, y_val)\n",
    "test_dataset = RNATypeDataset(x_test, y_test)\n",
    "\n",
    "train_loader = DataLoader(train_dataset, batch_size=batch_size, shuffle=True)\n",
    "val_loader = DataLoader(val_dataset, batch_size=batch_size, shuffle=False)\n",
    "test_loader = DataLoader(test_dataset, batch_size=batch_size, shuffle=False)"
   ]
  },
  {
   "cell_type": "code",
   "execution_count": 24,
   "id": "55bb33f0",
   "metadata": {
    "execution": {
     "iopub.execute_input": "2024-03-23T07:06:45.014941Z",
     "iopub.status.busy": "2024-03-23T07:06:45.014704Z",
     "iopub.status.idle": "2024-03-23T07:06:45.021336Z",
     "shell.execute_reply": "2024-03-23T07:06:45.020315Z"
    },
    "executionInfo": {
     "elapsed": 1,
     "status": "ok",
     "timestamp": 1711122803665,
     "user": {
      "displayName": "Jiuming Wang",
      "userId": "02779250306311152610"
     },
     "user_tz": -480
    },
    "id": "hSIvXw7SIbET",
    "outputId": "8bd4eaf7-1848-4af9-c279-63820845afda",
    "papermill": {
     "duration": 0.031499,
     "end_time": "2024-03-23T07:06:45.023237",
     "exception": false,
     "start_time": "2024-03-23T07:06:44.991738",
     "status": "completed"
    },
    "tags": []
   },
   "outputs": [
    {
     "name": "stdout",
     "output_type": "stream",
     "text": [
      "RNATypeClassifier(\n",
      "  (fc): Linear(in_features=640, out_features=28, bias=True)\n",
      ")\n"
     ]
    }
   ],
   "source": [
    "model = RNATypeClassifier(num_class).to(device)\n",
    "print(model)\n",
    "\n",
    "criterion = nn.CrossEntropyLoss()\n",
    "\n",
    "optimizer = torch.optim.Adam(model.parameters(), lr=lr)"
   ]
  },
  {
   "cell_type": "markdown",
   "id": "5e2823df",
   "metadata": {
    "id": "ypjZGoZYH_zR",
    "papermill": {
     "duration": 0.022371,
     "end_time": "2024-03-23T07:06:45.068278",
     "exception": false,
     "start_time": "2024-03-23T07:06:45.045907",
     "status": "completed"
    },
    "tags": []
   },
   "source": [
    "### Train the model"
   ]
  },
  {
   "cell_type": "code",
   "execution_count": 25,
   "id": "1b3976d5",
   "metadata": {
    "execution": {
     "iopub.execute_input": "2024-03-23T07:06:45.114054Z",
     "iopub.status.busy": "2024-03-23T07:06:45.113808Z",
     "iopub.status.idle": "2024-03-23T07:07:58.990132Z",
     "shell.execute_reply": "2024-03-23T07:07:58.989229Z"
    },
    "executionInfo": {
     "elapsed": 80989,
     "status": "ok",
     "timestamp": 1711122937908,
     "user": {
      "displayName": "Jiuming Wang",
      "userId": "02779250306311152610"
     },
     "user_tz": -480
    },
    "id": "S1D7_PbmHntP",
    "outputId": "64f71318-c1d5-4c70-f5ee-9ae6feaf84ee",
    "papermill": {
     "duration": 73.90221,
     "end_time": "2024-03-23T07:07:58.992759",
     "exception": false,
     "start_time": "2024-03-23T07:06:45.090549",
     "status": "completed"
    },
    "tags": []
   },
   "outputs": [
    {
     "data": {
      "application/vnd.jupyter.widget-view+json": {
       "model_id": "f4421aaaa5f14dbf9cc8c62d599e1fbe",
       "version_major": 2,
       "version_minor": 0
      },
      "text/plain": [
       "  0%|          | 0/100 [00:00<?, ?it/s]"
      ]
     },
     "metadata": {},
     "output_type": "display_data"
    },
    {
     "name": "stdout",
     "output_type": "stream",
     "text": [
      "epoch 1/100: train loss=3.044983, train acc=0.279018, val loss=2.806200, val acc=0.424107\n",
      "epoch 21/100: train loss=1.742194, train acc=0.808036, val loss=1.734867, val acc=0.754464\n",
      "epoch 41/100: train loss=1.331669, train acc=0.858259, val loss=1.417151, val acc=0.776786\n",
      "epoch 61/100: train loss=1.100573, train acc=0.895089, val loss=1.247724, val acc=0.803571\n",
      "epoch 81/100: train loss=0.946295, train acc=0.919643, val loss=1.142060, val acc=0.825893\n"
     ]
    }
   ],
   "source": [
    "max_val_acc = -1\n",
    "best_epoch = -1\n",
    "\n",
    "train_loss_history = []\n",
    "val_loss_history = []\n",
    "\n",
    "train_acc_history = []\n",
    "val_acc_history = []\n",
    "\n",
    "for epoch in tqdm(range(epochs)):\n",
    "\n",
    "    # train the model\n",
    "    train_losses = []\n",
    "    train_preds = []\n",
    "    train_targets = []\n",
    "\n",
    "    model.train()\n",
    "\n",
    "    for batch in train_loader:\n",
    "        x, y = batch\n",
    "        x, y = x.to(device).float(), y.to(device).long()\n",
    "\n",
    "        # no need to apply the softmax function since it has been included in the loss function\n",
    "        y_pred = model(x)\n",
    "\n",
    "        # y_pred: (B, C) with class probabilities, y shape: (B,) with class indices\n",
    "        loss = criterion(y_pred, y)\n",
    "\n",
    "        train_losses.append(loss.item())\n",
    "        train_preds.append(torch.max(y_pred.detach(),1)[1])\n",
    "        train_targets.append(y)\n",
    "\n",
    "        optimizer.zero_grad()\n",
    "        loss.backward()\n",
    "        optimizer.step()\n",
    "\n",
    "    # validate the model\n",
    "    val_losses = []\n",
    "    val_preds = []\n",
    "    val_targets = []\n",
    "\n",
    "    model.eval()\n",
    "\n",
    "    for batch in val_loader:\n",
    "        x, y = batch\n",
    "        x, y = x.to(device).float(), y.to(device).long()\n",
    "\n",
    "        y_pred = model(x)\n",
    "\n",
    "        # y_pred: (B, C) with class probabilities, y shape: (B,) with class indices\n",
    "        loss = criterion(y_pred, y)\n",
    "\n",
    "        val_losses.append(loss.item())\n",
    "        val_preds.append(torch.max(y_pred.detach(),1)[1])\n",
    "        val_targets.append(y)\n",
    "\n",
    "    # calculate the accuracy\n",
    "    train_preds = torch.cat(train_preds, dim=0)\n",
    "    train_targets = torch.cat(train_targets, dim=0)\n",
    "    train_acc = (train_preds == train_targets).float().mean().cpu()\n",
    "\n",
    "    val_preds = torch.cat(val_preds, dim=0)\n",
    "    val_targets = torch.cat(val_targets, dim=0)\n",
    "    val_acc = (val_preds == val_targets).float().mean().cpu()\n",
    "\n",
    "    train_acc_history.append(train_acc)\n",
    "    val_acc_history.append(val_acc)\n",
    "\n",
    "    # save the model checkpoint for the best validation accuracy\n",
    "    if val_acc > max_val_acc:\n",
    "        torch.save({'model_state_dict': model.state_dict()}, 'rna_type_checkpoint.pt')\n",
    "        best_epoch = epoch\n",
    "        max_val_acc = val_acc\n",
    "\n",
    "    # show intermediate steps\n",
    "    if epoch % 20 == 1:\n",
    "        tqdm.write(f'epoch {epoch}/{epochs}: train loss={np.mean(train_loss_history):.6f}, '\n",
    "                   f'train acc={train_acc:.6f}, '\n",
    "                   f'val loss={np.mean(val_loss_history):.6f}, '\n",
    "                   f'val acc={val_acc:.6f}')\n",
    "\n",
    "    train_loss_history.append(np.mean(train_losses))\n",
    "    val_loss_history.append(np.mean(val_losses))"
   ]
  },
  {
   "cell_type": "markdown",
   "id": "272c2035",
   "metadata": {
    "id": "gsJ7UkZU2mra",
    "papermill": {
     "duration": 0.022939,
     "end_time": "2024-03-23T07:07:59.039177",
     "exception": false,
     "start_time": "2024-03-23T07:07:59.016238",
     "status": "completed"
    },
    "tags": []
   },
   "source": [
    "### Visualize training results"
   ]
  },
  {
   "cell_type": "code",
   "execution_count": 26,
   "id": "3377ba42",
   "metadata": {
    "execution": {
     "iopub.execute_input": "2024-03-23T07:07:59.086511Z",
     "iopub.status.busy": "2024-03-23T07:07:59.085883Z",
     "iopub.status.idle": "2024-03-23T07:07:59.324597Z",
     "shell.execute_reply": "2024-03-23T07:07:59.323741Z"
    },
    "executionInfo": {
     "elapsed": 938,
     "status": "ok",
     "timestamp": 1711122961290,
     "user": {
      "displayName": "Jiuming Wang",
      "userId": "02779250306311152610"
     },
     "user_tz": -480
    },
    "id": "mjJckdmZiGnz",
    "outputId": "2eedfd53-18d0-4fe1-b3bf-148773fc96cc",
    "papermill": {
     "duration": 0.26446,
     "end_time": "2024-03-23T07:07:59.326669",
     "exception": false,
     "start_time": "2024-03-23T07:07:59.062209",
     "status": "completed"
    },
    "tags": []
   },
   "outputs": [
    {
     "data": {
      "image/png": "[encoded data removed]",
      "text/plain": [
       "<Figure size 800x600 with 1 Axes>"
      ]
     },
     "metadata": {},
     "output_type": "display_data"
    }
   ],
   "source": [
    "plt.figure(figsize=(8, 6))\n",
    "\n",
    "plt.plot(train_loss_history, label='train loss')\n",
    "plt.plot(val_loss_history, label='val loss')\n",
    "\n",
    "# the epoch with best validation loss\n",
    "plt.axvline(x=best_epoch, color='r', linestyle='--', alpha=0.8)\n",
    "\n",
    "plt.xlabel('Epochs')\n",
    "plt.ylabel('Loss')\n",
    "plt.title('Loss History')\n",
    "\n",
    "plt.legend()\n",
    "\n",
    "plt.show()"
   ]
  },
  {
   "cell_type": "code",
   "execution_count": 27,
   "id": "f1da9990",
   "metadata": {
    "execution": {
     "iopub.execute_input": "2024-03-23T07:07:59.375308Z",
     "iopub.status.busy": "2024-03-23T07:07:59.375002Z",
     "iopub.status.idle": "2024-03-23T07:07:59.588686Z",
     "shell.execute_reply": "2024-03-23T07:07:59.587895Z"
    },
    "executionInfo": {
     "elapsed": 5,
     "status": "ok",
     "timestamp": 1711122964006,
     "user": {
      "displayName": "Jiuming Wang",
      "userId": "02779250306311152610"
     },
     "user_tz": -480
    },
    "id": "6GVW2-wn2pxC",
    "outputId": "dd06f933-a761-4d54-bf3a-d22c7693f06c",
    "papermill": {
     "duration": 0.240048,
     "end_time": "2024-03-23T07:07:59.590671",
     "exception": false,
     "start_time": "2024-03-23T07:07:59.350623",
     "status": "completed"
    },
    "tags": []
   },
   "outputs": [
    {
     "data": {
      "image/png": "[encoded data removed]",
      "text/plain": [
       "<Figure size 800x600 with 1 Axes>"
      ]
     },
     "metadata": {},
     "output_type": "display_data"
    }
   ],
   "source": [
    "plt.figure(figsize=(8, 6))\n",
    "\n",
    "plt.plot(train_acc_history, label='train accuracy')\n",
    "plt.plot(val_acc_history, label='val accuracy')\n",
    "\n",
    "# the epoch with best validation accuracy\n",
    "plt.axvline(x=best_epoch, color='r', linestyle='--', alpha=0.8)\n",
    "\n",
    "plt.xlabel('Epochs')\n",
    "plt.ylabel('Accuracy')\n",
    "plt.title('Accuracy History')\n",
    "\n",
    "plt.legend()\n",
    "\n",
    "plt.show()"
   ]
  },
  {
   "cell_type": "markdown",
   "id": "6597cddd",
   "metadata": {
    "id": "WXCDoKK6IO6t",
    "papermill": {
     "duration": 0.024618,
     "end_time": "2024-03-23T07:07:59.639736",
     "exception": false,
     "start_time": "2024-03-23T07:07:59.615118",
     "status": "completed"
    },
    "tags": []
   },
   "source": [
    "### Test the model"
   ]
  },
  {
   "cell_type": "code",
   "execution_count": 28,
   "id": "88461c65",
   "metadata": {
    "execution": {
     "iopub.execute_input": "2024-03-23T07:07:59.689828Z",
     "iopub.status.busy": "2024-03-23T07:07:59.689158Z",
     "iopub.status.idle": "2024-03-23T07:07:59.861453Z",
     "shell.execute_reply": "2024-03-23T07:07:59.860445Z"
    },
    "executionInfo": {
     "elapsed": 615,
     "status": "ok",
     "timestamp": 1711122973657,
     "user": {
      "displayName": "Jiuming Wang",
      "userId": "02779250306311152610"
     },
     "user_tz": -480
    },
    "id": "RZ3MA0riIQgx",
    "outputId": "81563930-78e6-4368-965b-2dee1d98d574",
    "papermill": {
     "duration": 0.199421,
     "end_time": "2024-03-23T07:07:59.863341",
     "exception": false,
     "start_time": "2024-03-23T07:07:59.663920",
     "status": "completed"
    },
    "tags": []
   },
   "outputs": [
    {
     "name": "stdout",
     "output_type": "stream",
     "text": [
      "total number of test data: 280, correct=221, test acc=0.7893\n"
     ]
    }
   ],
   "source": [
    "# test the model\n",
    "test_preds = []\n",
    "\n",
    "model.load_state_dict(torch.load('rna_type_checkpoint.pt')['model_state_dict'])\n",
    "\n",
    "model.eval()\n",
    "\n",
    "for batch in test_loader:\n",
    "    x, y = batch\n",
    "    x, y = x.to(device).float(), y.to(device).long()\n",
    "\n",
    "    output = model(x)\n",
    "\n",
    "    _, y_pred = torch.max(output.data, 1)  # argmax in y_pred\n",
    "    # print(y_pred.shape)\n",
    "\n",
    "    test_preds.append(y_pred.cpu().numpy())\n",
    "\n",
    "\n",
    "test_preds = np.concatenate(test_preds)\n",
    "\n",
    "total = len(y_test)\n",
    "correct = np.sum(test_preds == y_test)\n",
    "\n",
    "print(f'total number of test data: {total}, correct={correct}, test acc={correct/total:.4f}')"
   ]
  },
  {
   "cell_type": "markdown",
   "id": "a9b44967",
   "metadata": {
    "papermill": {
     "duration": 0.023961,
     "end_time": "2024-03-23T07:07:59.911646",
     "exception": false,
     "start_time": "2024-03-23T07:07:59.887685",
     "status": "completed"
    },
    "tags": []
   },
   "source": [
    "### Applying RNA-FM for other intersting downstream tasks?\n",
    "\n",
    "The general workflow is the same as above: get your sequence, generate the FM embeddings, and use the FM embeddings as inputs to your own downstream model.\n",
    "\n",
    "In the above example, we have only used one fully-connected layer in our downstream model. However, as the problem becomes more complex and the dataset grows, we can also adopt more sophisticated models to further improve the performance."
   ]
  },
  {
   "cell_type": "code",
   "execution_count": null,
   "id": "616a26c0",
   "metadata": {
    "papermill": {
     "duration": 0.023721,
     "end_time": "2024-03-23T07:07:59.959255",
     "exception": false,
     "start_time": "2024-03-23T07:07:59.935534",
     "status": "completed"
    },
    "tags": []
   },
   "outputs": [],
   "source": []
  }
 ],
 "metadata": {
  "accelerator": "GPU",
  "colab": {
   "authorship_tag": "ABX9TyOLpnTULKLnhuGp8BspX6yu",
   "gpuType": "T4",
   "machine_shape": "hm",
   "provenance": []
  },
  "kaggle": {
   "accelerator": "gpu",
   "dataSources": [
    {
     "datasetId": 4650806,
     "sourceId": 7916214,
     "sourceType": "datasetVersion"
    }
   ],
   "dockerImageVersionId": 30674,
   "isGpuEnabled": true,
   "isInternetEnabled": true,
   "language": "python",
   "sourceType": "notebook"
  },
  "kernelspec": {
   "display_name": "Python 3",
   "language": "python",
   "name": "python3"
  },
  "language_info": {
   "codemirror_mode": {
    "name": "ipython",
    "version": 3
   },
   "file_extension": ".py",
   "mimetype": "text/x-python",
   "name": "python",
   "nbconvert_exporter": "python",
   "pygments_lexer": "ipython3",
   "version": "3.10.13"
  },
  "papermill": {
   "default_parameters": {},
   "duration": 231.102445,
   "end_time": "2024-03-23T07:08:02.452003",
   "environment_variables": {},
   "exception": null,
   "input_path": "__notebook__.ipynb",
   "output_path": "__notebook__.ipynb",
   "parameters": {},
   "start_time": "2024-03-23T07:04:11.349558",
   "version": "2.5.0"
  },
  "widgets": {
   "application/vnd.jupyter.widget-state+json": {
    "state": {
     "042f1bc5960742c6882b8aa06195878b": {
      "model_module": "@jupyter-widgets/controls",
      "model_module_version": "1.5.0",
      "model_name": "HBoxModel",
      "state": {
       "_dom_classes": [],
       "_model_module": "@jupyter-widgets/controls",
       "_model_module_version": "1.5.0",
       "_model_name": "HBoxModel",
       "_view_count": null,
       "_view_module": "@jupyter-widgets/controls",
       "_view_module_version": "1.5.0",
       "_view_name": "HBoxView",
       "box_style": "",
       "children": [
        "IPY_MODEL_fddbd07580f04601b4ad44c8e03370d3",
        "IPY_MODEL_941af0086e7642fe9c406cdbf08416ad",
        "IPY_MODEL_2f433b6c9b184135b93cda4aa1755771"
       ],
       "layout": "IPY_MODEL_6232f25f22db45eba24a25613c876a75"
      }
     },
     "05e1501e661d4ddf9081d60c545eed63": {
      "model_module": "@jupyter-widgets/controls",
      "model_module_version": "1.5.0",
      "model_name": "DescriptionStyleModel",
      "state": {
       "_model_module": "@jupyter-widgets/controls",
       "_model_module_version": "1.5.0",
       "_model_name": "DescriptionStyleModel",
       "_view_count": null,
       "_view_module": "@jupyter-widgets/base",
       "_view_module_version": "1.2.0",
       "_view_name": "StyleView",
       "description_width": ""
      }
     },
     "0aeda86e0fe94388b0d9d361bb4e9bc7": {
      "model_module": "@jupyter-widgets/base",
      "model_module_version": "1.2.0",
      "model_name": "LayoutModel",
      "state": {
       "_model_module": "@jupyter-widgets/base",
       "_model_module_version": "1.2.0",
       "_model_name": "LayoutModel",
       "_view_count": null,
       "_view_module": "@jupyter-widgets/base",
       "_view_module_version": "1.2.0",
       "_view_name": "LayoutView",
       "align_content": null,
       "align_items": null,
       "align_self": null,
       "border": null,
       "bottom": null,
       "display": null,
       "flex": null,
       "flex_flow": null,
       "grid_area": null,
       "grid_auto_columns": null,
       "grid_auto_flow": null,
       "grid_auto_rows": null,
       "grid_column": null,
       "grid_gap": null,
       "grid_row": null,
       "grid_template_areas": null,
       "grid_template_columns": null,
       "grid_template_rows": null,
       "height": null,
       "justify_content": null,
       "justify_items": null,
       "left": null,
       "margin": null,
       "max_height": null,
       "max_width": null,
       "min_height": null,
       "min_width": null,
       "object_fit": null,
       "object_position": null,
       "order": null,
       "overflow": null,
       "overflow_x": null,
       "overflow_y": null,
       "padding": null,
       "right": null,
       "top": null,
       "visibility": null,
       "width": null
      }
     },
     "0db33754e1ae44898c63cd421ec0b05e": {
      "model_module": "@jupyter-widgets/controls",
      "model_module_version": "1.5.0",
      "model_name": "FloatProgressModel",
      "state": {
       "_dom_classes": [],
       "_model_module": "@jupyter-widgets/controls",
       "_model_module_version": "1.5.0",
       "_model_name": "FloatProgressModel",
       "_view_count": null,
       "_view_module": "@jupyter-widgets/controls",
       "_view_module_version": "1.5.0",
       "_view_name": "ProgressView",
       "bar_style": "success",
       "description": "",
       "description_tooltip": null,
       "layout": "IPY_MODEL_114f2c3b909645b6979e02f5c3a217ba",
       "max": 107.0,
       "min": 0.0,
       "orientation": "horizontal",
       "style": "IPY_MODEL_c0947cbdb51244a3b844d59ca3a2fbff",
       "value": 107.0
      }
     },
     "114f2c3b909645b6979e02f5c3a217ba": {
      "model_module": "@jupyter-widgets/base",
      "model_module_version": "1.2.0",
      "model_name": "LayoutModel",
      "state": {
       "_model_module": "@jupyter-widgets/base",
       "_model_module_version": "1.2.0",
       "_model_name": "LayoutModel",
       "_view_count": null,
       "_view_module": "@jupyter-widgets/base",
       "_view_module_version": "1.2.0",
       "_view_name": "LayoutView",
       "align_content": null,
       "align_items": null,
       "align_self": null,
       "border": null,
       "bottom": null,
       "display": null,
       "flex": null,
       "flex_flow": null,
       "grid_area": null,
       "grid_auto_columns": null,
       "grid_auto_flow": null,
       "grid_auto_rows": null,
       "grid_column": null,
       "grid_gap": null,
       "grid_row": null,
       "grid_template_areas": null,
       "grid_template_columns": null,
       "grid_template_rows": null,
       "height": null,
       "justify_content": null,
       "justify_items": null,
       "left": null,
       "margin": null,
       "max_height": null,
       "max_width": null,
       "min_height": null,
       "min_width": null,
       "object_fit": null,
       "object_position": null,
       "order": null,
       "overflow": null,
       "overflow_x": null,
       "overflow_y": null,
       "padding": null,
       "right": null,
       "top": null,
       "visibility": null,
       "width": null
      }
     },
     "116611b5ea1840058f12a72daa713706": {
      "model_module": "@jupyter-widgets/controls",
      "model_module_version": "1.5.0",
      "model_name": "HTMLModel",
      "state": {
       "_dom_classes": [],
       "_model_module": "@jupyter-widgets/controls",
       "_model_module_version": "1.5.0",
       "_model_name": "HTMLModel",
       "_view_count": null,
       "_view_module": "@jupyter-widgets/controls",
       "_view_module_version": "1.5.0",
       "_view_name": "HTMLView",
       "description": "",
       "description_tooltip": null,
       "layout": "IPY_MODEL_fae639b3ffe748e8969f8b74fb1582d1",
       "placeholder": "​",
       "style": "IPY_MODEL_a3c0ff8d7de943a2ae2a6bd8f604025d",
       "value": " 100/100 [01:13&lt;00:00,  1.35it/s]"
      }
     },
     "1c95961cafd8474ab083fd6cd71fa18c": {
      "model_module": "@jupyter-widgets/base",
      "model_module_version": "1.2.0",
      "model_name": "LayoutModel",
      "state": {
       "_model_module": "@jupyter-widgets/base",
       "_model_module_version": "1.2.0",
       "_model_name": "LayoutModel",
       "_view_count": null,
       "_view_module": "@jupyter-widgets/base",
       "_view_module_version": "1.2.0",
       "_view_name": "LayoutView",
       "align_content": null,
       "align_items": null,
       "align_self": null,
       "border": null,
       "bottom": null,
       "display": null,
       "flex": null,
       "flex_flow": null,
       "grid_area": null,
       "grid_auto_columns": null,
       "grid_auto_flow": null,
       "grid_auto_rows": null,
       "grid_column": null,
       "grid_gap": null,
       "grid_row": null,
       "grid_template_areas": null,
       "grid_template_columns": null,
       "grid_template_rows": null,
       "height": null,
       "justify_content": null,
       "justify_items": null,
       "left": null,
       "margin": null,
       "max_height": null,
       "max_width": null,
       "min_height": null,
       "min_width": null,
       "object_fit": null,
       "object_position": null,
       "order": null,
       "overflow": null,
       "overflow_x": null,
       "overflow_y": null,
       "padding": null,
       "right": null,
       "top": null,
       "visibility": null,
       "width": null
      }
     },
     "2991a8509dcf432493698ece3da8e4ce": {
      "model_module": "@jupyter-widgets/controls",
      "model_module_version": "1.5.0",
      "model_name": "HTMLModel",
      "state": {
       "_dom_classes": [],
       "_model_module": "@jupyter-widgets/controls",
       "_model_module_version": "1.5.0",
       "_model_name": "HTMLModel",
       "_view_count": null,
       "_view_module": "@jupyter-widgets/controls",
       "_view_module_version": "1.5.0",
       "_view_name": "HTMLView",
       "description": "",
       "description_tooltip": null,
       "layout": "IPY_MODEL_1c95961cafd8474ab083fd6cd71fa18c",
       "placeholder": "​",
       "style": "IPY_MODEL_e36bf8cdb4ed4607bf9c47b41b838860",
       "value": "100%"
      }
     },
     "2f433b6c9b184135b93cda4aa1755771": {
      "model_module": "@jupyter-widgets/controls",
      "model_module_version": "1.5.0",
      "model_name": "HTMLModel",
      "state": {
       "_dom_classes": [],
       "_model_module": "@jupyter-widgets/controls",
       "_model_module_version": "1.5.0",
       "_model_name": "HTMLModel",
       "_view_count": null,
       "_view_module": "@jupyter-widgets/controls",
       "_view_module_version": "1.5.0",
       "_view_name": "HTMLView",
       "description": "",
       "description_tooltip": null,
       "layout": "IPY_MODEL_a9f89a6199944a1fa2f5f35c08acf3c6",
       "placeholder": "​",
       "style": "IPY_MODEL_05e1501e661d4ddf9081d60c545eed63",
       "value": " 28/28 [00:34&lt;00:00,  1.28it/s]"
      }
     },
     "44c427c3646041029ef7ee165d377350": {
      "model_module": "@jupyter-widgets/base",
      "model_module_version": "1.2.0",
      "model_name": "LayoutModel",
      "state": {
       "_model_module": "@jupyter-widgets/base",
       "_model_module_version": "1.2.0",
       "_model_name": "LayoutModel",
       "_view_count": null,
       "_view_module": "@jupyter-widgets/base",
       "_view_module_version": "1.2.0",
       "_view_name": "LayoutView",
       "align_content": null,
       "align_items": null,
       "align_self": null,
       "border": null,
       "bottom": null,
       "display": null,
       "flex": null,
       "flex_flow": null,
       "grid_area": null,
       "grid_auto_columns": null,
       "grid_auto_flow": null,
       "grid_auto_rows": null,
       "grid_column": null,
       "grid_gap": null,
       "grid_row": null,
       "grid_template_areas": null,
       "grid_template_columns": null,
       "grid_template_rows": null,
       "height": null,
       "justify_content": null,
       "justify_items": null,
       "left": null,
       "margin": null,
       "max_height": null,
       "max_width": null,
       "min_height": null,
       "min_width": null,
       "object_fit": null,
       "object_position": null,
       "order": null,
       "overflow": null,
       "overflow_x": null,
       "overflow_y": null,
       "padding": null,
       "right": null,
       "top": null,
       "visibility": null,
       "width": null
      }
     },
     "4b918e3c606442838ceb2fa43db44043": {
      "model_module": "@jupyter-widgets/base",
      "model_module_version": "1.2.0",
      "model_name": "LayoutModel",
      "state": {
       "_model_module": "@jupyter-widgets/base",
       "_model_module_version": "1.2.0",
       "_model_name": "LayoutModel",
       "_view_count": null,
       "_view_module": "@jupyter-widgets/base",
       "_view_module_version": "1.2.0",
       "_view_name": "LayoutView",
       "align_content": null,
       "align_items": null,
       "align_self": null,
       "border": null,
       "bottom": null,
       "display": null,
       "flex": null,
       "flex_flow": null,
       "grid_area": null,
       "grid_auto_columns": null,
       "grid_auto_flow": null,
       "grid_auto_rows": null,
       "grid_column": null,
       "grid_gap": null,
       "grid_row": null,
       "grid_template_areas": null,
       "grid_template_columns": null,
       "grid_template_rows": null,
       "height": null,
       "justify_content": null,
       "justify_items": null,
       "left": null,
       "margin": null,
       "max_height": null,
       "max_width": null,
       "min_height": null,
       "min_width": null,
       "object_fit": null,
       "object_position": null,
       "order": null,
       "overflow": null,
       "overflow_x": null,
       "overflow_y": null,
       "padding": null,
       "right": null,
       "top": null,
       "visibility": null,
       "width": null
      }
     },
     "6232f25f22db45eba24a25613c876a75": {
      "model_module": "@jupyter-widgets/base",
      "model_module_version": "1.2.0",
      "model_name": "LayoutModel",
      "state": {
       "_model_module": "@jupyter-widgets/base",
       "_model_module_version": "1.2.0",
       "_model_name": "LayoutModel",
       "_view_count": null,
       "_view_module": "@jupyter-widgets/base",
       "_view_module_version": "1.2.0",
       "_view_name": "LayoutView",
       "align_content": null,
       "align_items": null,
       "align_self": null,
       "border": null,
       "bottom": null,
       "display": null,
       "flex": null,
       "flex_flow": null,
       "grid_area": null,
       "grid_auto_columns": null,
       "grid_auto_flow": null,
       "grid_auto_rows": null,
       "grid_column": null,
       "grid_gap": null,
       "grid_row": null,
       "grid_template_areas": null,
       "grid_template_columns": null,
       "grid_template_rows": null,
       "height": null,
       "justify_content": null,
       "justify_items": null,
       "left": null,
       "margin": null,
       "max_height": null,
       "max_width": null,
       "min_height": null,
       "min_width": null,
       "object_fit": null,
       "object_position": null,
       "order": null,
       "overflow": null,
       "overflow_x": null,
       "overflow_y": null,
       "padding": null,
       "right": null,
       "top": null,
       "visibility": null,
       "width": null
      }
     },
     "80c71abab5f64322ae622bde50336041": {
      "model_module": "@jupyter-widgets/controls",
      "model_module_version": "1.5.0",
      "model_name": "HTMLModel",
      "state": {
       "_dom_classes": [],
       "_model_module": "@jupyter-widgets/controls",
       "_model_module_version": "1.5.0",
       "_model_name": "HTMLModel",
       "_view_count": null,
       "_view_module": "@jupyter-widgets/controls",
       "_view_module_version": "1.5.0",
       "_view_name": "HTMLView",
       "description": "",
       "description_tooltip": null,
       "layout": "IPY_MODEL_4b918e3c606442838ceb2fa43db44043",
       "placeholder": "​",
       "style": "IPY_MODEL_9c45f2d0495143589d0c630f250091c8",
       "value": " 107/107 [00:18&lt;00:00,  2.09it/s]"
      }
     },
     "92daa1d076cb43dcb485aa58decf3af4": {
      "model_module": "@jupyter-widgets/base",
      "model_module_version": "1.2.0",
      "model_name": "LayoutModel",
      "state": {
       "_model_module": "@jupyter-widgets/base",
       "_model_module_version": "1.2.0",
       "_model_name": "LayoutModel",
       "_view_count": null,
       "_view_module": "@jupyter-widgets/base",
       "_view_module_version": "1.2.0",
       "_view_name": "LayoutView",
       "align_content": null,
       "align_items": null,
       "align_self": null,
       "border": null,
       "bottom": null,
       "display": null,
       "flex": null,
       "flex_flow": null,
       "grid_area": null,
       "grid_auto_columns": null,
       "grid_auto_flow": null,
       "grid_auto_rows": null,
       "grid_column": null,
       "grid_gap": null,
       "grid_row": null,
       "grid_template_areas": null,
       "grid_template_columns": null,
       "grid_template_rows": null,
       "height": null,
       "justify_content": null,
       "justify_items": null,
       "left": null,
       "margin": null,
       "max_height": null,
       "max_width": null,
       "min_height": null,
       "min_width": null,
       "object_fit": null,
       "object_position": null,
       "order": null,
       "overflow": null,
       "overflow_x": null,
       "overflow_y": null,
       "padding": null,
       "right": null,
       "top": null,
       "visibility": null,
       "width": null
      }
     },
     "941af0086e7642fe9c406cdbf08416ad": {
      "model_module": "@jupyter-widgets/controls",
      "model_module_version": "1.5.0",
      "model_name": "FloatProgressModel",
      "state": {
       "_dom_classes": [],
       "_model_module": "@jupyter-widgets/controls",
       "_model_module_version": "1.5.0",
       "_model_name": "FloatProgressModel",
       "_view_count": null,
       "_view_module": "@jupyter-widgets/controls",
       "_view_module_version": "1.5.0",
       "_view_name": "ProgressView",
       "bar_style": "success",
       "description": "",
       "description_tooltip": null,
       "layout": "IPY_MODEL_0aeda86e0fe94388b0d9d361bb4e9bc7",
       "max": 28.0,
       "min": 0.0,
       "orientation": "horizontal",
       "style": "IPY_MODEL_bde665997dd5457d9a8745ae1c0afe15",
       "value": 28.0
      }
     },
     "9c45f2d0495143589d0c630f250091c8": {
      "model_module": "@jupyter-widgets/controls",
      "model_module_version": "1.5.0",
      "model_name": "DescriptionStyleModel",
      "state": {
       "_model_module": "@jupyter-widgets/controls",
       "_model_module_version": "1.5.0",
       "_model_name": "DescriptionStyleModel",
       "_view_count": null,
       "_view_module": "@jupyter-widgets/base",
       "_view_module_version": "1.2.0",
       "_view_name": "StyleView",
       "description_width": ""
      }
     },
     "a3c0ff8d7de943a2ae2a6bd8f604025d": {
      "model_module": "@jupyter-widgets/controls",
      "model_module_version": "1.5.0",
      "model_name": "DescriptionStyleModel",
      "state": {
       "_model_module": "@jupyter-widgets/controls",
       "_model_module_version": "1.5.0",
       "_model_name": "DescriptionStyleModel",
       "_view_count": null,
       "_view_module": "@jupyter-widgets/base",
       "_view_module_version": "1.2.0",
       "_view_name": "StyleView",
       "description_width": ""
      }
     },
     "a40e7f37542b40f091d8143b3c616270": {
      "model_module": "@jupyter-widgets/controls",
      "model_module_version": "1.5.0",
      "model_name": "ProgressStyleModel",
      "state": {
       "_model_module": "@jupyter-widgets/controls",
       "_model_module_version": "1.5.0",
       "_model_name": "ProgressStyleModel",
       "_view_count": null,
       "_view_module": "@jupyter-widgets/base",
       "_view_module_version": "1.2.0",
       "_view_name": "StyleView",
       "bar_color": null,
       "description_width": ""
      }
     },
     "a9f89a6199944a1fa2f5f35c08acf3c6": {
      "model_module": "@jupyter-widgets/base",
      "model_module_version": "1.2.0",
      "model_name": "LayoutModel",
      "state": {
       "_model_module": "@jupyter-widgets/base",
       "_model_module_version": "1.2.0",
       "_model_name": "LayoutModel",
       "_view_count": null,
       "_view_module": "@jupyter-widgets/base",
       "_view_module_version": "1.2.0",
       "_view_name": "LayoutView",
       "align_content": null,
       "align_items": null,
       "align_self": null,
       "border": null,
       "bottom": null,
       "display": null,
       "flex": null,
       "flex_flow": null,
       "grid_area": null,
       "grid_auto_columns": null,
       "grid_auto_flow": null,
       "grid_auto_rows": null,
       "grid_column": null,
       "grid_gap": null,
       "grid_row": null,
       "grid_template_areas": null,
       "grid_template_columns": null,
       "grid_template_rows": null,
       "height": null,
       "justify_content": null,
       "justify_items": null,
       "left": null,
       "margin": null,
       "max_height": null,
       "max_width": null,
       "min_height": null,
       "min_width": null,
       "object_fit": null,
       "object_position": null,
       "order": null,
       "overflow": null,
       "overflow_x": null,
       "overflow_y": null,
       "padding": null,
       "right": null,
       "top": null,
       "visibility": null,
       "width": null
      }
     },
     "abfebc0240b346d2b805f61424863ff4": {
      "model_module": "@jupyter-widgets/controls",
      "model_module_version": "1.5.0",
      "model_name": "DescriptionStyleModel",
      "state": {
       "_model_module": "@jupyter-widgets/controls",
       "_model_module_version": "1.5.0",
       "_model_name": "DescriptionStyleModel",
       "_view_count": null,
       "_view_module": "@jupyter-widgets/base",
       "_view_module_version": "1.2.0",
       "_view_name": "StyleView",
       "description_width": ""
      }
     },
     "bde665997dd5457d9a8745ae1c0afe15": {
      "model_module": "@jupyter-widgets/controls",
      "model_module_version": "1.5.0",
      "model_name": "ProgressStyleModel",
      "state": {
       "_model_module": "@jupyter-widgets/controls",
       "_model_module_version": "1.5.0",
       "_model_name": "ProgressStyleModel",
       "_view_count": null,
       "_view_module": "@jupyter-widgets/base",
       "_view_module_version": "1.2.0",
       "_view_name": "StyleView",
       "bar_color": null,
       "description_width": ""
      }
     },
     "c0947cbdb51244a3b844d59ca3a2fbff": {
      "model_module": "@jupyter-widgets/controls",
      "model_module_version": "1.5.0",
      "model_name": "ProgressStyleModel",
      "state": {
       "_model_module": "@jupyter-widgets/controls",
       "_model_module_version": "1.5.0",
       "_model_name": "ProgressStyleModel",
       "_view_count": null,
       "_view_module": "@jupyter-widgets/base",
       "_view_module_version": "1.2.0",
       "_view_name": "StyleView",
       "bar_color": null,
       "description_width": ""
      }
     },
     "c973b20c9b2247469a1b4eda02bc1b75": {
      "model_module": "@jupyter-widgets/controls",
      "model_module_version": "1.5.0",
      "model_name": "HTMLModel",
      "state": {
       "_dom_classes": [],
       "_model_module": "@jupyter-widgets/controls",
       "_model_module_version": "1.5.0",
       "_model_name": "HTMLModel",
       "_view_count": null,
       "_view_module": "@jupyter-widgets/controls",
       "_view_module_version": "1.5.0",
       "_view_name": "HTMLView",
       "description": "",
       "description_tooltip": null,
       "layout": "IPY_MODEL_92daa1d076cb43dcb485aa58decf3af4",
       "placeholder": "​",
       "style": "IPY_MODEL_df84e805107d4bddbf7b5634ae66611f",
       "value": "100%"
      }
     },
     "df84e805107d4bddbf7b5634ae66611f": {
      "model_module": "@jupyter-widgets/controls",
      "model_module_version": "1.5.0",
      "model_name": "DescriptionStyleModel",
      "state": {
       "_model_module": "@jupyter-widgets/controls",
       "_model_module_version": "1.5.0",
       "_model_name": "DescriptionStyleModel",
       "_view_count": null,
       "_view_module": "@jupyter-widgets/base",
       "_view_module_version": "1.2.0",
       "_view_name": "StyleView",
       "description_width": ""
      }
     },
     "df9c81b9c90e4d71b66df65ee9254aa5": {
      "model_module": "@jupyter-widgets/base",
      "model_module_version": "1.2.0",
      "model_name": "LayoutModel",
      "state": {
       "_model_module": "@jupyter-widgets/base",
       "_model_module_version": "1.2.0",
       "_model_name": "LayoutModel",
       "_view_count": null,
       "_view_module": "@jupyter-widgets/base",
       "_view_module_version": "1.2.0",
       "_view_name": "LayoutView",
       "align_content": null,
       "align_items": null,
       "align_self": null,
       "border": null,
       "bottom": null,
       "display": null,
       "flex": null,
       "flex_flow": null,
       "grid_area": null,
       "grid_auto_columns": null,
       "grid_auto_flow": null,
       "grid_auto_rows": null,
       "grid_column": null,
       "grid_gap": null,
       "grid_row": null,
       "grid_template_areas": null,
       "grid_template_columns": null,
       "grid_template_rows": null,
       "height": null,
       "justify_content": null,
       "justify_items": null,
       "left": null,
       "margin": null,
       "max_height": null,
       "max_width": null,
       "min_height": null,
       "min_width": null,
       "object_fit": null,
       "object_position": null,
       "order": null,
       "overflow": null,
       "overflow_x": null,
       "overflow_y": null,
       "padding": null,
       "right": null,
       "top": null,
       "visibility": null,
       "width": null
      }
     },
     "e36bf8cdb4ed4607bf9c47b41b838860": {
      "model_module": "@jupyter-widgets/controls",
      "model_module_version": "1.5.0",
      "model_name": "DescriptionStyleModel",
      "state": {
       "_model_module": "@jupyter-widgets/controls",
       "_model_module_version": "1.5.0",
       "_model_name": "DescriptionStyleModel",
       "_view_count": null,
       "_view_module": "@jupyter-widgets/base",
       "_view_module_version": "1.2.0",
       "_view_name": "StyleView",
       "description_width": ""
      }
     },
     "e700c42b38b64c5fbd55b789d8aeced1": {
      "model_module": "@jupyter-widgets/base",
      "model_module_version": "1.2.0",
      "model_name": "LayoutModel",
      "state": {
       "_model_module": "@jupyter-widgets/base",
       "_model_module_version": "1.2.0",
       "_model_name": "LayoutModel",
       "_view_count": null,
       "_view_module": "@jupyter-widgets/base",
       "_view_module_version": "1.2.0",
       "_view_name": "LayoutView",
       "align_content": null,
       "align_items": null,
       "align_self": null,
       "border": null,
       "bottom": null,
       "display": null,
       "flex": null,
       "flex_flow": null,
       "grid_area": null,
       "grid_auto_columns": null,
       "grid_auto_flow": null,
       "grid_auto_rows": null,
       "grid_column": null,
       "grid_gap": null,
       "grid_row": null,
       "grid_template_areas": null,
       "grid_template_columns": null,
       "grid_template_rows": null,
       "height": null,
       "justify_content": null,
       "justify_items": null,
       "left": null,
       "margin": null,
       "max_height": null,
       "max_width": null,
       "min_height": null,
       "min_width": null,
       "object_fit": null,
       "object_position": null,
       "order": null,
       "overflow": null,
       "overflow_x": null,
       "overflow_y": null,
       "padding": null,
       "right": null,
       "top": null,
       "visibility": null,
       "width": null
      }
     },
     "e7e0a5142b064321ae152e3b392595e3": {
      "model_module": "@jupyter-widgets/controls",
      "model_module_version": "1.5.0",
      "model_name": "HBoxModel",
      "state": {
       "_dom_classes": [],
       "_model_module": "@jupyter-widgets/controls",
       "_model_module_version": "1.5.0",
       "_model_name": "HBoxModel",
       "_view_count": null,
       "_view_module": "@jupyter-widgets/controls",
       "_view_module_version": "1.5.0",
       "_view_name": "HBoxView",
       "box_style": "",
       "children": [
        "IPY_MODEL_c973b20c9b2247469a1b4eda02bc1b75",
        "IPY_MODEL_0db33754e1ae44898c63cd421ec0b05e",
        "IPY_MODEL_80c71abab5f64322ae622bde50336041"
       ],
       "layout": "IPY_MODEL_44c427c3646041029ef7ee165d377350"
      }
     },
     "ec065c33a80940259795748f52b5b100": {
      "model_module": "@jupyter-widgets/controls",
      "model_module_version": "1.5.0",
      "model_name": "FloatProgressModel",
      "state": {
       "_dom_classes": [],
       "_model_module": "@jupyter-widgets/controls",
       "_model_module_version": "1.5.0",
       "_model_name": "FloatProgressModel",
       "_view_count": null,
       "_view_module": "@jupyter-widgets/controls",
       "_view_module_version": "1.5.0",
       "_view_name": "ProgressView",
       "bar_style": "success",
       "description": "",
       "description_tooltip": null,
       "layout": "IPY_MODEL_e700c42b38b64c5fbd55b789d8aeced1",
       "max": 100.0,
       "min": 0.0,
       "orientation": "horizontal",
       "style": "IPY_MODEL_a40e7f37542b40f091d8143b3c616270",
       "value": 100.0
      }
     },
     "f4421aaaa5f14dbf9cc8c62d599e1fbe": {
      "model_module": "@jupyter-widgets/controls",
      "model_module_version": "1.5.0",
      "model_name": "HBoxModel",
      "state": {
       "_dom_classes": [],
       "_model_module": "@jupyter-widgets/controls",
       "_model_module_version": "1.5.0",
       "_model_name": "HBoxModel",
       "_view_count": null,
       "_view_module": "@jupyter-widgets/controls",
       "_view_module_version": "1.5.0",
       "_view_name": "HBoxView",
       "box_style": "",
       "children": [
        "IPY_MODEL_2991a8509dcf432493698ece3da8e4ce",
        "IPY_MODEL_ec065c33a80940259795748f52b5b100",
        "IPY_MODEL_116611b5ea1840058f12a72daa713706"
       ],
       "layout": "IPY_MODEL_df9c81b9c90e4d71b66df65ee9254aa5"
      }
     },
     "fae639b3ffe748e8969f8b74fb1582d1": {
      "model_module": "@jupyter-widgets/base",
      "model_module_version": "1.2.0",
      "model_name": "LayoutModel",
      "state": {
       "_model_module": "@jupyter-widgets/base",
       "_model_module_version": "1.2.0",
       "_model_name": "LayoutModel",
       "_view_count": null,
       "_view_module": "@jupyter-widgets/base",
       "_view_module_version": "1.2.0",
       "_view_name": "LayoutView",
       "align_content": null,
       "align_items": null,
       "align_self": null,
       "border": null,
       "bottom": null,
       "display": null,
       "flex": null,
       "flex_flow": null,
       "grid_area": null,
       "grid_auto_columns": null,
       "grid_auto_flow": null,
       "grid_auto_rows": null,
       "grid_column": null,
       "grid_gap": null,
       "grid_row": null,
       "grid_template_areas": null,
       "grid_template_columns": null,
       "grid_template_rows": null,
       "height": null,
       "justify_content": null,
       "justify_items": null,
       "left": null,
       "margin": null,
       "max_height": null,
       "max_width": null,
       "min_height": null,
       "min_width": null,
       "object_fit": null,
       "object_position": null,
       "order": null,
       "overflow": null,
       "overflow_x": null,
       "overflow_y": null,
       "padding": null,
       "right": null,
       "top": null,
       "visibility": null,
       "width": null
      }
     },
     "fdaf03c89ee44b49b192a84d51defa46": {
      "model_module": "@jupyter-widgets/base",
      "model_module_version": "1.2.0",
      "model_name": "LayoutModel",
      "state": {
       "_model_module": "@jupyter-widgets/base",
       "_model_module_version": "1.2.0",
       "_model_name": "LayoutModel",
       "_view_count": null,
       "_view_module": "@jupyter-widgets/base",
       "_view_module_version": "1.2.0",
       "_view_name": "LayoutView",
       "align_content": null,
       "align_items": null,
       "align_self": null,
       "border": null,
       "bottom": null,
       "display": null,
       "flex": null,
       "flex_flow": null,
       "grid_area": null,
       "grid_auto_columns": null,
       "grid_auto_flow": null,
       "grid_auto_rows": null,
       "grid_column": null,
       "grid_gap": null,
       "grid_row": null,
       "grid_template_areas": null,
       "grid_template_columns": null,
       "grid_template_rows": null,
       "height": null,
       "justify_content": null,
       "justify_items": null,
       "left": null,
       "margin": null,
       "max_height": null,
       "max_width": null,
       "min_height": null,
       "min_width": null,
       "object_fit": null,
       "object_position": null,
       "order": null,
       "overflow": null,
       "overflow_x": null,
       "overflow_y": null,
       "padding": null,
       "right": null,
       "top": null,
       "visibility": null,
       "width": null
      }
     },
     "fddbd07580f04601b4ad44c8e03370d3": {
      "model_module": "@jupyter-widgets/controls",
      "model_module_version": "1.5.0",
      "model_name": "HTMLModel",
      "state": {
       "_dom_classes": [],
       "_model_module": "@jupyter-widgets/controls",
       "_model_module_version": "1.5.0",
       "_model_name": "HTMLModel",
       "_view_count": null,
       "_view_module": "@jupyter-widgets/controls",
       "_view_module_version": "1.5.0",
       "_view_name": "HTMLView",
       "description": "",
       "description_tooltip": null,
       "layout": "IPY_MODEL_fdaf03c89ee44b49b192a84d51defa46",
       "placeholder": "​",
       "style": "IPY_MODEL_abfebc0240b346d2b805f61424863ff4",
       "value": "100%"
      }
     }
    },
    "version_major": 2,
    "version_minor": 0
   }
  }
 },
 "nbformat": 4,
 "nbformat_minor": 5
}
